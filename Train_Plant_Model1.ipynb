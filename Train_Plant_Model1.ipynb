{
 "cells": [
  {
   "cell_type": "code",
   "execution_count": 1,
   "id": "3dad8146-68e8-4339-b8c7-66e7c5c47839",
   "metadata": {},
   "outputs": [
    {
     "name": "stdout",
     "output_type": "stream",
     "text": [
      "Requirement already satisfied: tensorflow in d:\\softwares\\anacondafiles\\lib\\site-packages (2.16.1)\n",
      "Requirement already satisfied: tensorflow-intel==2.16.1 in d:\\softwares\\anacondafiles\\lib\\site-packages (from tensorflow) (2.16.1)\n",
      "Requirement already satisfied: absl-py>=1.0.0 in d:\\softwares\\anacondafiles\\lib\\site-packages (from tensorflow-intel==2.16.1->tensorflow) (2.1.0)\n",
      "Requirement already satisfied: astunparse>=1.6.0 in d:\\softwares\\anacondafiles\\lib\\site-packages (from tensorflow-intel==2.16.1->tensorflow) (1.6.3)\n",
      "Requirement already satisfied: flatbuffers>=23.5.26 in d:\\softwares\\anacondafiles\\lib\\site-packages (from tensorflow-intel==2.16.1->tensorflow) (24.3.25)\n",
      "Requirement already satisfied: gast!=0.5.0,!=0.5.1,!=0.5.2,>=0.2.1 in d:\\softwares\\anacondafiles\\lib\\site-packages (from tensorflow-intel==2.16.1->tensorflow) (0.5.4)\n",
      "Requirement already satisfied: google-pasta>=0.1.1 in d:\\softwares\\anacondafiles\\lib\\site-packages (from tensorflow-intel==2.16.1->tensorflow) (0.2.0)\n",
      "Requirement already satisfied: h5py>=3.10.0 in d:\\softwares\\anacondafiles\\lib\\site-packages (from tensorflow-intel==2.16.1->tensorflow) (3.11.0)\n",
      "Requirement already satisfied: libclang>=13.0.0 in d:\\softwares\\anacondafiles\\lib\\site-packages (from tensorflow-intel==2.16.1->tensorflow) (18.1.1)\n",
      "Requirement already satisfied: ml-dtypes~=0.3.1 in d:\\softwares\\anacondafiles\\lib\\site-packages (from tensorflow-intel==2.16.1->tensorflow) (0.3.2)\n",
      "Requirement already satisfied: opt-einsum>=2.3.2 in d:\\softwares\\anacondafiles\\lib\\site-packages (from tensorflow-intel==2.16.1->tensorflow) (3.3.0)\n",
      "Requirement already satisfied: packaging in d:\\softwares\\anacondafiles\\lib\\site-packages (from tensorflow-intel==2.16.1->tensorflow) (23.1)\n",
      "Requirement already satisfied: protobuf!=4.21.0,!=4.21.1,!=4.21.2,!=4.21.3,!=4.21.4,!=4.21.5,<5.0.0dev,>=3.20.3 in d:\\softwares\\anacondafiles\\lib\\site-packages (from tensorflow-intel==2.16.1->tensorflow) (3.20.3)\n",
      "Requirement already satisfied: requests<3,>=2.21.0 in d:\\softwares\\anacondafiles\\lib\\site-packages (from tensorflow-intel==2.16.1->tensorflow) (2.31.0)\n",
      "Requirement already satisfied: setuptools in d:\\softwares\\anacondafiles\\lib\\site-packages (from tensorflow-intel==2.16.1->tensorflow) (68.2.2)\n",
      "Requirement already satisfied: six>=1.12.0 in d:\\softwares\\anacondafiles\\lib\\site-packages (from tensorflow-intel==2.16.1->tensorflow) (1.16.0)\n",
      "Requirement already satisfied: termcolor>=1.1.0 in d:\\softwares\\anacondafiles\\lib\\site-packages (from tensorflow-intel==2.16.1->tensorflow) (2.4.0)\n",
      "Requirement already satisfied: typing-extensions>=3.6.6 in d:\\softwares\\anacondafiles\\lib\\site-packages (from tensorflow-intel==2.16.1->tensorflow) (4.5.0)\n",
      "Requirement already satisfied: wrapt>=1.11.0 in d:\\softwares\\anacondafiles\\lib\\site-packages (from tensorflow-intel==2.16.1->tensorflow) (1.14.1)\n",
      "Requirement already satisfied: grpcio<2.0,>=1.24.3 in d:\\softwares\\anacondafiles\\lib\\site-packages (from tensorflow-intel==2.16.1->tensorflow) (1.62.2)\n",
      "Requirement already satisfied: tensorboard<2.17,>=2.16 in d:\\softwares\\anacondafiles\\lib\\site-packages (from tensorflow-intel==2.16.1->tensorflow) (2.16.2)\n",
      "Requirement already satisfied: keras>=3.0.0 in d:\\softwares\\anacondafiles\\lib\\site-packages (from tensorflow-intel==2.16.1->tensorflow) (3.2.1)\n",
      "Requirement already satisfied: tensorflow-io-gcs-filesystem>=0.23.1 in d:\\softwares\\anacondafiles\\lib\\site-packages (from tensorflow-intel==2.16.1->tensorflow) (0.31.0)\n",
      "Requirement already satisfied: numpy<2.0.0,>=1.23.5 in c:\\users\\tharushi hansika\\appdata\\roaming\\python\\python311\\site-packages (from tensorflow-intel==2.16.1->tensorflow) (1.26.4)\n",
      "Requirement already satisfied: wheel<1.0,>=0.23.0 in d:\\softwares\\anacondafiles\\lib\\site-packages (from astunparse>=1.6.0->tensorflow-intel==2.16.1->tensorflow) (0.41.2)\n",
      "Requirement already satisfied: rich in d:\\softwares\\anacondafiles\\lib\\site-packages (from keras>=3.0.0->tensorflow-intel==2.16.1->tensorflow) (13.3.5)\n",
      "Requirement already satisfied: namex in d:\\softwares\\anacondafiles\\lib\\site-packages (from keras>=3.0.0->tensorflow-intel==2.16.1->tensorflow) (0.0.8)\n",
      "Requirement already satisfied: optree in d:\\softwares\\anacondafiles\\lib\\site-packages (from keras>=3.0.0->tensorflow-intel==2.16.1->tensorflow) (0.11.0)\n",
      "Requirement already satisfied: charset-normalizer<4,>=2 in d:\\softwares\\anacondafiles\\lib\\site-packages (from requests<3,>=2.21.0->tensorflow-intel==2.16.1->tensorflow) (2.0.4)\n",
      "Requirement already satisfied: idna<4,>=2.5 in d:\\softwares\\anacondafiles\\lib\\site-packages (from requests<3,>=2.21.0->tensorflow-intel==2.16.1->tensorflow) (3.4)\n",
      "Requirement already satisfied: urllib3<3,>=1.21.1 in d:\\softwares\\anacondafiles\\lib\\site-packages (from requests<3,>=2.21.0->tensorflow-intel==2.16.1->tensorflow) (2.0.7)\n",
      "Requirement already satisfied: certifi>=2017.4.17 in d:\\softwares\\anacondafiles\\lib\\site-packages (from requests<3,>=2.21.0->tensorflow-intel==2.16.1->tensorflow) (2024.2.2)\n",
      "Requirement already satisfied: markdown>=2.6.8 in d:\\softwares\\anacondafiles\\lib\\site-packages (from tensorboard<2.17,>=2.16->tensorflow-intel==2.16.1->tensorflow) (3.4.1)\n",
      "Requirement already satisfied: tensorboard-data-server<0.8.0,>=0.7.0 in d:\\softwares\\anacondafiles\\lib\\site-packages (from tensorboard<2.17,>=2.16->tensorflow-intel==2.16.1->tensorflow) (0.7.2)\n",
      "Requirement already satisfied: werkzeug>=1.0.1 in d:\\softwares\\anacondafiles\\lib\\site-packages (from tensorboard<2.17,>=2.16->tensorflow-intel==2.16.1->tensorflow) (2.2.3)\n",
      "Requirement already satisfied: MarkupSafe>=2.1.1 in d:\\softwares\\anacondafiles\\lib\\site-packages (from werkzeug>=1.0.1->tensorboard<2.17,>=2.16->tensorflow-intel==2.16.1->tensorflow) (2.1.3)\n",
      "Requirement already satisfied: markdown-it-py<3.0.0,>=2.2.0 in d:\\softwares\\anacondafiles\\lib\\site-packages (from rich->keras>=3.0.0->tensorflow-intel==2.16.1->tensorflow) (2.2.0)\n",
      "Requirement already satisfied: pygments<3.0.0,>=2.13.0 in d:\\softwares\\anacondafiles\\lib\\site-packages (from rich->keras>=3.0.0->tensorflow-intel==2.16.1->tensorflow) (2.15.1)\n",
      "Requirement already satisfied: mdurl~=0.1 in d:\\softwares\\anacondafiles\\lib\\site-packages (from markdown-it-py<3.0.0,>=2.2.0->rich->keras>=3.0.0->tensorflow-intel==2.16.1->tensorflow) (0.1.0)\n"
     ]
    }
   ],
   "source": [
    "!pip install tensorflow"
   ]
  },
  {
   "cell_type": "markdown",
   "id": "633a9b1c-744f-40d0-adb6-63dae1efad48",
   "metadata": {},
   "source": [
    "## Importing Libraries"
   ]
  },
  {
   "cell_type": "code",
   "execution_count": 2,
   "id": "bd21f03b-40a2-4288-8fbf-920157040d2f",
   "metadata": {},
   "outputs": [],
   "source": [
    "import tensorflow as tf\n",
    "import matplotlib.pyplot as plt #For visualization\n",
    "import pandas as pd\n",
    "import seaborn as sns"
   ]
  },
  {
   "cell_type": "markdown",
   "id": "c0dcc936-24a8-48fb-8274-5a2f47e36faa",
   "metadata": {},
   "source": [
    "## Data Pre-Processing"
   ]
  },
  {
   "cell_type": "markdown",
   "id": "1a7280b1-e543-4dca-9338-90f095184397",
   "metadata": {},
   "source": [
    "### Training Image Pre-Processing"
   ]
  },
  {
   "cell_type": "code",
   "execution_count": 3,
   "id": "d575fda4-7559-4988-80fd-aeecc57ca572",
   "metadata": {},
   "outputs": [
    {
     "name": "stdout",
     "output_type": "stream",
     "text": [
      "Found 458 files belonging to 2 classes.\n"
     ]
    }
   ],
   "source": [
    "training_set = tf.keras.utils.image_dataset_from_directory( #Keras image data loding (https://keras.io/api/data_loading/image/)\n",
    "    'train', #Folder name (where the data is located)\n",
    "    labels=\"inferred\", #Labels are generated from the directory structure\n",
    "    label_mode=\"categorical\", #Labels are encoded as a categorical vector\n",
    "    class_names=None,\n",
    "    color_mode=\"rgb\",\n",
    "    batch_size=32, #If you want to speed up the training process then change this in to 64 or 128\n",
    "    image_size=(128, 128),\n",
    "    shuffle=True, #To reduce the biasness of the model you can shuffle it\n",
    "    seed=None,\n",
    "    validation_split=None,\n",
    "    subset=None,\n",
    "    interpolation=\"bilinear\",\n",
    "    follow_links=False,\n",
    "    crop_to_aspect_ratio=False,\n",
    "    pad_to_aspect_ratio=False,\n",
    "    data_format=None,\n",
    "    verbose=True,\n",
    ")"
   ]
  },
  {
   "cell_type": "code",
   "execution_count": 4,
   "id": "1c8cc3b6-b4a7-41ea-82f3-3b5f53f2f058",
   "metadata": {},
   "outputs": [
    {
     "data": {
      "text/plain": [
       "<_PrefetchDataset element_spec=(TensorSpec(shape=(None, 128, 128, 3), dtype=tf.float32, name=None), TensorSpec(shape=(None, 2), dtype=tf.float32, name=None))>"
      ]
     },
     "execution_count": 4,
     "metadata": {},
     "output_type": "execute_result"
    }
   ],
   "source": [
    "training_set"
   ]
  },
  {
   "cell_type": "markdown",
   "id": "0790353c-5dc3-4c8d-8d55-d840eb51e586",
   "metadata": {},
   "source": [
    "### Validation Image Pre-Processing"
   ]
  },
  {
   "cell_type": "code",
   "execution_count": 5,
   "id": "2c861aed-6725-4bef-b5b0-121b1d028f3f",
   "metadata": {},
   "outputs": [
    {
     "name": "stdout",
     "output_type": "stream",
     "text": [
      "Found 246 files belonging to 2 classes.\n"
     ]
    }
   ],
   "source": [
    "validation_set = tf.keras.utils.image_dataset_from_directory( #Keras image data loding (https://keras.io/api/data_loading/image/)\n",
    "    'valid', #Folder name (where the data is located)\n",
    "    labels=\"inferred\", #Labels are generated from the directory structure\n",
    "    label_mode=\"categorical\", #Labels are encoded as a categorical vector\n",
    "    class_names=None,\n",
    "    color_mode=\"rgb\",\n",
    "    batch_size=32, #If you want to speed up the training process then change this in to 64 or 128\n",
    "    image_size=(128, 128),\n",
    "    shuffle=True, #To reduce the biasness of the model you can shuffle it\n",
    "    seed=None,\n",
    "    validation_split=None,\n",
    "    subset=None,\n",
    "    interpolation=\"bilinear\",\n",
    "    follow_links=False,\n",
    "    crop_to_aspect_ratio=False,\n",
    "    pad_to_aspect_ratio=False,\n",
    "    data_format=None,\n",
    "    verbose=True,\n",
    ")"
   ]
  },
  {
   "cell_type": "code",
   "execution_count": 6,
   "id": "fbd7c741-0fb2-41f6-8d83-97e97d3352b9",
   "metadata": {},
   "outputs": [
    {
     "data": {
      "text/plain": [
       "<_PrefetchDataset element_spec=(TensorSpec(shape=(None, 128, 128, 3), dtype=tf.float32, name=None), TensorSpec(shape=(None, 2), dtype=tf.float32, name=None))>"
      ]
     },
     "execution_count": 6,
     "metadata": {},
     "output_type": "execute_result"
    }
   ],
   "source": [
    "validation_set"
   ]
  },
  {
   "cell_type": "markdown",
   "id": "d933aba4-c6e0-451f-bc2a-4ff7e9aebc75",
   "metadata": {},
   "source": [
    "### Test Image Pre-Precessing"
   ]
  },
  {
   "cell_type": "code",
   "execution_count": 7,
   "id": "737be6a9-4b9d-4ddf-9f54-e0b8bc2bc256",
   "metadata": {},
   "outputs": [
    {
     "name": "stdout",
     "output_type": "stream",
     "text": [
      "Found 62 files belonging to 1 classes.\n"
     ]
    }
   ],
   "source": [
    "test_set = tf.keras.utils.image_dataset_from_directory( #Keras image data loding (https://keras.io/api/data_loading/image/)\n",
    "    'test', #Folder name (where the data is located)\n",
    "    labels=\"inferred\", #Labels are generated from the directory structure\n",
    "    label_mode=\"categorical\", #Labels are encoded as a categorical vector\n",
    "    class_names=None,\n",
    "    color_mode=\"rgb\",\n",
    "    batch_size=32, #If you want to speed up the training process then change this in to 64 or 128\n",
    "    image_size=(128, 128),\n",
    "    shuffle=True, #To reduce the biasness of the model you can shuffle it\n",
    "    seed=None,\n",
    "    validation_split=None,\n",
    "    subset=None,\n",
    "    interpolation=\"bilinear\",\n",
    "    follow_links=False,\n",
    "    crop_to_aspect_ratio=False,\n",
    "    pad_to_aspect_ratio=False,\n",
    "    data_format=None,\n",
    "    verbose=True,\n",
    ")"
   ]
  },
  {
   "cell_type": "code",
   "execution_count": 8,
   "id": "6031b5cc-f89f-4f76-8e05-1b4822dde6c7",
   "metadata": {},
   "outputs": [
    {
     "data": {
      "text/plain": [
       "<_PrefetchDataset element_spec=(TensorSpec(shape=(None, 128, 128, 3), dtype=tf.float32, name=None), TensorSpec(shape=(None, 1), dtype=tf.float32, name=None))>"
      ]
     },
     "execution_count": 8,
     "metadata": {},
     "output_type": "execute_result"
    }
   ],
   "source": [
    "test_set #128,128=Width and hieght, 3=RGB format of the array, 2=Examples in one batch"
   ]
  },
  {
   "cell_type": "markdown",
   "id": "0aa040d9-b13e-4753-856c-42932d12056a",
   "metadata": {},
   "source": [
    "## Building Model"
   ]
  },
  {
   "cell_type": "markdown",
   "id": "d53ae4d8-2f22-487d-9111-f0b6381358a6",
   "metadata": {},
   "source": [
    "### Importing Libraries"
   ]
  },
  {
   "cell_type": "code",
   "execution_count": 9,
   "id": "8a9d44eb-91b5-48d9-89fb-131915ab612a",
   "metadata": {},
   "outputs": [],
   "source": [
    "from tensorflow.keras.layers import Dense,Conv2D,MaxPool2D, Flatten, Dropout #For convolution operations\n",
    "from tensorflow.keras.models import Sequential #Model we use"
   ]
  },
  {
   "cell_type": "code",
   "execution_count": 10,
   "id": "2641cbfe-e721-4174-94d1-cd7ce500f92e",
   "metadata": {},
   "outputs": [],
   "source": [
    "model = Sequential() #We use sequential model so, this is it object"
   ]
  },
  {
   "cell_type": "markdown",
   "id": "626df622-271b-47ae-b033-545da906687f",
   "metadata": {},
   "source": [
    "### Building Convolution Layer"
   ]
  },
  {
   "cell_type": "code",
   "execution_count": 11,
   "id": "497ccccb-4d83-480a-b506-a8e66519c4a7",
   "metadata": {},
   "outputs": [
    {
     "name": "stderr",
     "output_type": "stream",
     "text": [
      "D:\\SOFTWARES\\anacondafiles\\Lib\\site-packages\\keras\\src\\layers\\convolutional\\base_conv.py:107: UserWarning: Do not pass an `input_shape`/`input_dim` argument to a layer. When using Sequential models, prefer using an `Input(shape)` object as the first layer in the model instead.\n",
      "  super().__init__(activity_regularizer=activity_regularizer, **kwargs)\n"
     ]
    }
   ],
   "source": [
    "model.add(Conv2D(filters=32, kernel_size=3, padding='same', activation='relu', input_shape=[128, 128, 3])) #Adding convolution layer to the model. input_shape is the image_size that we added early\n",
    "model.add(Conv2D(filters=32, kernel_size=3, padding='same', activation='relu')) #Input shape adding only to the first layer\n",
    "model.add(MaxPool2D(pool_size=2, strides=2))"
   ]
  },
  {
   "cell_type": "code",
   "execution_count": 12,
   "id": "05d4f419-16f1-463c-8167-adc7f9d11a77",
   "metadata": {},
   "outputs": [],
   "source": [
    "model.add(Conv2D(filters=64, kernel_size=3, padding='same', activation='relu')) #Adding more layers can get good result\n",
    "model.add(Conv2D(filters=64, kernel_size=3, padding='same', activation='relu')) #Remove padding to speed the training process\n",
    "model.add(MaxPool2D(pool_size=2, strides=2))"
   ]
  },
  {
   "cell_type": "code",
   "execution_count": 13,
   "id": "c5c1a0e1-974c-4b79-84b1-8e96e885b0db",
   "metadata": {},
   "outputs": [],
   "source": [
    "model.add(Conv2D(filters=128, kernel_size=3, padding='same', activation='relu'))\n",
    "model.add(Conv2D(filters=128, kernel_size=3, padding='same', activation='relu')) \n",
    "model.add(MaxPool2D(pool_size=2, strides=2))"
   ]
  },
  {
   "cell_type": "code",
   "execution_count": 14,
   "id": "9ef1e403-6f61-42e5-91f8-dcf4411595bc",
   "metadata": {},
   "outputs": [],
   "source": [
    "model.add(Conv2D(filters=256, kernel_size=3, padding='same', activation='relu'))\n",
    "model.add(Conv2D(filters=256, kernel_size=3, padding='same', activation='relu'))\n",
    "model.add(MaxPool2D(pool_size=2, strides=2))"
   ]
  },
  {
   "cell_type": "code",
   "execution_count": 15,
   "id": "0f4e2ec7-75b2-4579-a575-872b00c7531e",
   "metadata": {},
   "outputs": [],
   "source": [
    "model.add(Conv2D(filters=512, kernel_size=3, padding='same', activation='relu'))\n",
    "model.add(Conv2D(filters=512, kernel_size=3, padding='same', activation='relu'))\n",
    "model.add(MaxPool2D(pool_size=2, strides=2))"
   ]
  },
  {
   "cell_type": "markdown",
   "id": "bd912448-a2a6-4d40-8f60-30797b664b91",
   "metadata": {},
   "source": [
    "### Adding Flatten Layer"
   ]
  },
  {
   "cell_type": "code",
   "execution_count": 16,
   "id": "477542e6-c4b6-4fdf-b47a-ad426215f5e6",
   "metadata": {},
   "outputs": [],
   "source": [
    "model.add(Flatten())"
   ]
  },
  {
   "cell_type": "markdown",
   "id": "bf5f75df-0c8c-41ef-b982-b531014d3ee8",
   "metadata": {},
   "source": [
    "### Adding Dense Layer"
   ]
  },
  {
   "cell_type": "code",
   "execution_count": 17,
   "id": "5c16cc4b-8d6f-4607-8cce-4f94b78e8b25",
   "metadata": {},
   "outputs": [],
   "source": [
    "model.add(Dense(units=1500, activation='relu')) #Units=number of neurons in the dense layer (Hidden laye)"
   ]
  },
  {
   "cell_type": "markdown",
   "id": "3e2c4467-7bc2-4fd0-86e0-0b2184c5bc05",
   "metadata": {},
   "source": [
    "### Adding Output Layer"
   ]
  },
  {
   "cell_type": "code",
   "execution_count": 18,
   "id": "33332b35-1b2f-4bd8-8ef6-62381612af6f",
   "metadata": {},
   "outputs": [],
   "source": [
    "model.add(Dense(units=2, activation='softmax')) #Using softmax we can get result as probability"
   ]
  },
  {
   "cell_type": "markdown",
   "id": "4ab8ed25-fbc2-4c99-81a8-116d202b5cfd",
   "metadata": {},
   "source": [
    "## Compiling Model"
   ]
  },
  {
   "cell_type": "code",
   "execution_count": 19,
   "id": "caa0a982-15a0-46e4-ba13-959609a24b6c",
   "metadata": {},
   "outputs": [],
   "source": [
    "#model.compile(optimizer='adam', loss='categorical_crossentropy', metrics=['accuracy'])\n",
    "model.compile(optimizer=tf.keras.optimizers.Adam(learning_rate=0.0001), loss='categorical_crossentropy', metrics=['accuracy'])"
   ]
  },
  {
   "cell_type": "code",
   "execution_count": 20,
   "id": "2d4a6614-b05e-4596-b224-9c8f3afbf380",
   "metadata": {},
   "outputs": [
    {
     "data": {
      "text/html": [
       "<pre style=\"white-space:pre;overflow-x:auto;line-height:normal;font-family:Menlo,'DejaVu Sans Mono',consolas,'Courier New',monospace\"><span style=\"font-weight: bold\">Model: \"sequential\"</span>\n",
       "</pre>\n"
      ],
      "text/plain": [
       "\u001b[1mModel: \"sequential\"\u001b[0m\n"
      ]
     },
     "metadata": {},
     "output_type": "display_data"
    },
    {
     "data": {
      "text/html": [
       "<pre style=\"white-space:pre;overflow-x:auto;line-height:normal;font-family:Menlo,'DejaVu Sans Mono',consolas,'Courier New',monospace\">┏━━━━━━━━━━━━━━━━━━━━━━━━━━━━━━━━━┳━━━━━━━━━━━━━━━━━━━━━━━━┳━━━━━━━━━━━━━━━┓\n",
       "┃<span style=\"font-weight: bold\"> Layer (type)                    </span>┃<span style=\"font-weight: bold\"> Output Shape           </span>┃<span style=\"font-weight: bold\">       Param # </span>┃\n",
       "┡━━━━━━━━━━━━━━━━━━━━━━━━━━━━━━━━━╇━━━━━━━━━━━━━━━━━━━━━━━━╇━━━━━━━━━━━━━━━┩\n",
       "│ conv2d (<span style=\"color: #0087ff; text-decoration-color: #0087ff\">Conv2D</span>)                 │ (<span style=\"color: #00d7ff; text-decoration-color: #00d7ff\">None</span>, <span style=\"color: #00af00; text-decoration-color: #00af00\">128</span>, <span style=\"color: #00af00; text-decoration-color: #00af00\">128</span>, <span style=\"color: #00af00; text-decoration-color: #00af00\">32</span>)   │           <span style=\"color: #00af00; text-decoration-color: #00af00\">896</span> │\n",
       "├─────────────────────────────────┼────────────────────────┼───────────────┤\n",
       "│ conv2d_1 (<span style=\"color: #0087ff; text-decoration-color: #0087ff\">Conv2D</span>)               │ (<span style=\"color: #00d7ff; text-decoration-color: #00d7ff\">None</span>, <span style=\"color: #00af00; text-decoration-color: #00af00\">128</span>, <span style=\"color: #00af00; text-decoration-color: #00af00\">128</span>, <span style=\"color: #00af00; text-decoration-color: #00af00\">32</span>)   │         <span style=\"color: #00af00; text-decoration-color: #00af00\">9,248</span> │\n",
       "├─────────────────────────────────┼────────────────────────┼───────────────┤\n",
       "│ max_pooling2d (<span style=\"color: #0087ff; text-decoration-color: #0087ff\">MaxPooling2D</span>)    │ (<span style=\"color: #00d7ff; text-decoration-color: #00d7ff\">None</span>, <span style=\"color: #00af00; text-decoration-color: #00af00\">64</span>, <span style=\"color: #00af00; text-decoration-color: #00af00\">64</span>, <span style=\"color: #00af00; text-decoration-color: #00af00\">32</span>)     │             <span style=\"color: #00af00; text-decoration-color: #00af00\">0</span> │\n",
       "├─────────────────────────────────┼────────────────────────┼───────────────┤\n",
       "│ conv2d_2 (<span style=\"color: #0087ff; text-decoration-color: #0087ff\">Conv2D</span>)               │ (<span style=\"color: #00d7ff; text-decoration-color: #00d7ff\">None</span>, <span style=\"color: #00af00; text-decoration-color: #00af00\">64</span>, <span style=\"color: #00af00; text-decoration-color: #00af00\">64</span>, <span style=\"color: #00af00; text-decoration-color: #00af00\">64</span>)     │        <span style=\"color: #00af00; text-decoration-color: #00af00\">18,496</span> │\n",
       "├─────────────────────────────────┼────────────────────────┼───────────────┤\n",
       "│ conv2d_3 (<span style=\"color: #0087ff; text-decoration-color: #0087ff\">Conv2D</span>)               │ (<span style=\"color: #00d7ff; text-decoration-color: #00d7ff\">None</span>, <span style=\"color: #00af00; text-decoration-color: #00af00\">64</span>, <span style=\"color: #00af00; text-decoration-color: #00af00\">64</span>, <span style=\"color: #00af00; text-decoration-color: #00af00\">64</span>)     │        <span style=\"color: #00af00; text-decoration-color: #00af00\">36,928</span> │\n",
       "├─────────────────────────────────┼────────────────────────┼───────────────┤\n",
       "│ max_pooling2d_1 (<span style=\"color: #0087ff; text-decoration-color: #0087ff\">MaxPooling2D</span>)  │ (<span style=\"color: #00d7ff; text-decoration-color: #00d7ff\">None</span>, <span style=\"color: #00af00; text-decoration-color: #00af00\">32</span>, <span style=\"color: #00af00; text-decoration-color: #00af00\">32</span>, <span style=\"color: #00af00; text-decoration-color: #00af00\">64</span>)     │             <span style=\"color: #00af00; text-decoration-color: #00af00\">0</span> │\n",
       "├─────────────────────────────────┼────────────────────────┼───────────────┤\n",
       "│ conv2d_4 (<span style=\"color: #0087ff; text-decoration-color: #0087ff\">Conv2D</span>)               │ (<span style=\"color: #00d7ff; text-decoration-color: #00d7ff\">None</span>, <span style=\"color: #00af00; text-decoration-color: #00af00\">32</span>, <span style=\"color: #00af00; text-decoration-color: #00af00\">32</span>, <span style=\"color: #00af00; text-decoration-color: #00af00\">128</span>)    │        <span style=\"color: #00af00; text-decoration-color: #00af00\">73,856</span> │\n",
       "├─────────────────────────────────┼────────────────────────┼───────────────┤\n",
       "│ conv2d_5 (<span style=\"color: #0087ff; text-decoration-color: #0087ff\">Conv2D</span>)               │ (<span style=\"color: #00d7ff; text-decoration-color: #00d7ff\">None</span>, <span style=\"color: #00af00; text-decoration-color: #00af00\">32</span>, <span style=\"color: #00af00; text-decoration-color: #00af00\">32</span>, <span style=\"color: #00af00; text-decoration-color: #00af00\">128</span>)    │       <span style=\"color: #00af00; text-decoration-color: #00af00\">147,584</span> │\n",
       "├─────────────────────────────────┼────────────────────────┼───────────────┤\n",
       "│ max_pooling2d_2 (<span style=\"color: #0087ff; text-decoration-color: #0087ff\">MaxPooling2D</span>)  │ (<span style=\"color: #00d7ff; text-decoration-color: #00d7ff\">None</span>, <span style=\"color: #00af00; text-decoration-color: #00af00\">16</span>, <span style=\"color: #00af00; text-decoration-color: #00af00\">16</span>, <span style=\"color: #00af00; text-decoration-color: #00af00\">128</span>)    │             <span style=\"color: #00af00; text-decoration-color: #00af00\">0</span> │\n",
       "├─────────────────────────────────┼────────────────────────┼───────────────┤\n",
       "│ conv2d_6 (<span style=\"color: #0087ff; text-decoration-color: #0087ff\">Conv2D</span>)               │ (<span style=\"color: #00d7ff; text-decoration-color: #00d7ff\">None</span>, <span style=\"color: #00af00; text-decoration-color: #00af00\">16</span>, <span style=\"color: #00af00; text-decoration-color: #00af00\">16</span>, <span style=\"color: #00af00; text-decoration-color: #00af00\">256</span>)    │       <span style=\"color: #00af00; text-decoration-color: #00af00\">295,168</span> │\n",
       "├─────────────────────────────────┼────────────────────────┼───────────────┤\n",
       "│ conv2d_7 (<span style=\"color: #0087ff; text-decoration-color: #0087ff\">Conv2D</span>)               │ (<span style=\"color: #00d7ff; text-decoration-color: #00d7ff\">None</span>, <span style=\"color: #00af00; text-decoration-color: #00af00\">16</span>, <span style=\"color: #00af00; text-decoration-color: #00af00\">16</span>, <span style=\"color: #00af00; text-decoration-color: #00af00\">256</span>)    │       <span style=\"color: #00af00; text-decoration-color: #00af00\">590,080</span> │\n",
       "├─────────────────────────────────┼────────────────────────┼───────────────┤\n",
       "│ max_pooling2d_3 (<span style=\"color: #0087ff; text-decoration-color: #0087ff\">MaxPooling2D</span>)  │ (<span style=\"color: #00d7ff; text-decoration-color: #00d7ff\">None</span>, <span style=\"color: #00af00; text-decoration-color: #00af00\">8</span>, <span style=\"color: #00af00; text-decoration-color: #00af00\">8</span>, <span style=\"color: #00af00; text-decoration-color: #00af00\">256</span>)      │             <span style=\"color: #00af00; text-decoration-color: #00af00\">0</span> │\n",
       "├─────────────────────────────────┼────────────────────────┼───────────────┤\n",
       "│ conv2d_8 (<span style=\"color: #0087ff; text-decoration-color: #0087ff\">Conv2D</span>)               │ (<span style=\"color: #00d7ff; text-decoration-color: #00d7ff\">None</span>, <span style=\"color: #00af00; text-decoration-color: #00af00\">8</span>, <span style=\"color: #00af00; text-decoration-color: #00af00\">8</span>, <span style=\"color: #00af00; text-decoration-color: #00af00\">512</span>)      │     <span style=\"color: #00af00; text-decoration-color: #00af00\">1,180,160</span> │\n",
       "├─────────────────────────────────┼────────────────────────┼───────────────┤\n",
       "│ conv2d_9 (<span style=\"color: #0087ff; text-decoration-color: #0087ff\">Conv2D</span>)               │ (<span style=\"color: #00d7ff; text-decoration-color: #00d7ff\">None</span>, <span style=\"color: #00af00; text-decoration-color: #00af00\">8</span>, <span style=\"color: #00af00; text-decoration-color: #00af00\">8</span>, <span style=\"color: #00af00; text-decoration-color: #00af00\">512</span>)      │     <span style=\"color: #00af00; text-decoration-color: #00af00\">2,359,808</span> │\n",
       "├─────────────────────────────────┼────────────────────────┼───────────────┤\n",
       "│ max_pooling2d_4 (<span style=\"color: #0087ff; text-decoration-color: #0087ff\">MaxPooling2D</span>)  │ (<span style=\"color: #00d7ff; text-decoration-color: #00d7ff\">None</span>, <span style=\"color: #00af00; text-decoration-color: #00af00\">4</span>, <span style=\"color: #00af00; text-decoration-color: #00af00\">4</span>, <span style=\"color: #00af00; text-decoration-color: #00af00\">512</span>)      │             <span style=\"color: #00af00; text-decoration-color: #00af00\">0</span> │\n",
       "├─────────────────────────────────┼────────────────────────┼───────────────┤\n",
       "│ flatten (<span style=\"color: #0087ff; text-decoration-color: #0087ff\">Flatten</span>)               │ (<span style=\"color: #00d7ff; text-decoration-color: #00d7ff\">None</span>, <span style=\"color: #00af00; text-decoration-color: #00af00\">8192</span>)           │             <span style=\"color: #00af00; text-decoration-color: #00af00\">0</span> │\n",
       "├─────────────────────────────────┼────────────────────────┼───────────────┤\n",
       "│ dense (<span style=\"color: #0087ff; text-decoration-color: #0087ff\">Dense</span>)                   │ (<span style=\"color: #00d7ff; text-decoration-color: #00d7ff\">None</span>, <span style=\"color: #00af00; text-decoration-color: #00af00\">1500</span>)           │    <span style=\"color: #00af00; text-decoration-color: #00af00\">12,289,500</span> │\n",
       "├─────────────────────────────────┼────────────────────────┼───────────────┤\n",
       "│ dense_1 (<span style=\"color: #0087ff; text-decoration-color: #0087ff\">Dense</span>)                 │ (<span style=\"color: #00d7ff; text-decoration-color: #00d7ff\">None</span>, <span style=\"color: #00af00; text-decoration-color: #00af00\">2</span>)              │         <span style=\"color: #00af00; text-decoration-color: #00af00\">3,002</span> │\n",
       "└─────────────────────────────────┴────────────────────────┴───────────────┘\n",
       "</pre>\n"
      ],
      "text/plain": [
       "┏━━━━━━━━━━━━━━━━━━━━━━━━━━━━━━━━━┳━━━━━━━━━━━━━━━━━━━━━━━━┳━━━━━━━━━━━━━━━┓\n",
       "┃\u001b[1m \u001b[0m\u001b[1mLayer (type)                   \u001b[0m\u001b[1m \u001b[0m┃\u001b[1m \u001b[0m\u001b[1mOutput Shape          \u001b[0m\u001b[1m \u001b[0m┃\u001b[1m \u001b[0m\u001b[1m      Param #\u001b[0m\u001b[1m \u001b[0m┃\n",
       "┡━━━━━━━━━━━━━━━━━━━━━━━━━━━━━━━━━╇━━━━━━━━━━━━━━━━━━━━━━━━╇━━━━━━━━━━━━━━━┩\n",
       "│ conv2d (\u001b[38;5;33mConv2D\u001b[0m)                 │ (\u001b[38;5;45mNone\u001b[0m, \u001b[38;5;34m128\u001b[0m, \u001b[38;5;34m128\u001b[0m, \u001b[38;5;34m32\u001b[0m)   │           \u001b[38;5;34m896\u001b[0m │\n",
       "├─────────────────────────────────┼────────────────────────┼───────────────┤\n",
       "│ conv2d_1 (\u001b[38;5;33mConv2D\u001b[0m)               │ (\u001b[38;5;45mNone\u001b[0m, \u001b[38;5;34m128\u001b[0m, \u001b[38;5;34m128\u001b[0m, \u001b[38;5;34m32\u001b[0m)   │         \u001b[38;5;34m9,248\u001b[0m │\n",
       "├─────────────────────────────────┼────────────────────────┼───────────────┤\n",
       "│ max_pooling2d (\u001b[38;5;33mMaxPooling2D\u001b[0m)    │ (\u001b[38;5;45mNone\u001b[0m, \u001b[38;5;34m64\u001b[0m, \u001b[38;5;34m64\u001b[0m, \u001b[38;5;34m32\u001b[0m)     │             \u001b[38;5;34m0\u001b[0m │\n",
       "├─────────────────────────────────┼────────────────────────┼───────────────┤\n",
       "│ conv2d_2 (\u001b[38;5;33mConv2D\u001b[0m)               │ (\u001b[38;5;45mNone\u001b[0m, \u001b[38;5;34m64\u001b[0m, \u001b[38;5;34m64\u001b[0m, \u001b[38;5;34m64\u001b[0m)     │        \u001b[38;5;34m18,496\u001b[0m │\n",
       "├─────────────────────────────────┼────────────────────────┼───────────────┤\n",
       "│ conv2d_3 (\u001b[38;5;33mConv2D\u001b[0m)               │ (\u001b[38;5;45mNone\u001b[0m, \u001b[38;5;34m64\u001b[0m, \u001b[38;5;34m64\u001b[0m, \u001b[38;5;34m64\u001b[0m)     │        \u001b[38;5;34m36,928\u001b[0m │\n",
       "├─────────────────────────────────┼────────────────────────┼───────────────┤\n",
       "│ max_pooling2d_1 (\u001b[38;5;33mMaxPooling2D\u001b[0m)  │ (\u001b[38;5;45mNone\u001b[0m, \u001b[38;5;34m32\u001b[0m, \u001b[38;5;34m32\u001b[0m, \u001b[38;5;34m64\u001b[0m)     │             \u001b[38;5;34m0\u001b[0m │\n",
       "├─────────────────────────────────┼────────────────────────┼───────────────┤\n",
       "│ conv2d_4 (\u001b[38;5;33mConv2D\u001b[0m)               │ (\u001b[38;5;45mNone\u001b[0m, \u001b[38;5;34m32\u001b[0m, \u001b[38;5;34m32\u001b[0m, \u001b[38;5;34m128\u001b[0m)    │        \u001b[38;5;34m73,856\u001b[0m │\n",
       "├─────────────────────────────────┼────────────────────────┼───────────────┤\n",
       "│ conv2d_5 (\u001b[38;5;33mConv2D\u001b[0m)               │ (\u001b[38;5;45mNone\u001b[0m, \u001b[38;5;34m32\u001b[0m, \u001b[38;5;34m32\u001b[0m, \u001b[38;5;34m128\u001b[0m)    │       \u001b[38;5;34m147,584\u001b[0m │\n",
       "├─────────────────────────────────┼────────────────────────┼───────────────┤\n",
       "│ max_pooling2d_2 (\u001b[38;5;33mMaxPooling2D\u001b[0m)  │ (\u001b[38;5;45mNone\u001b[0m, \u001b[38;5;34m16\u001b[0m, \u001b[38;5;34m16\u001b[0m, \u001b[38;5;34m128\u001b[0m)    │             \u001b[38;5;34m0\u001b[0m │\n",
       "├─────────────────────────────────┼────────────────────────┼───────────────┤\n",
       "│ conv2d_6 (\u001b[38;5;33mConv2D\u001b[0m)               │ (\u001b[38;5;45mNone\u001b[0m, \u001b[38;5;34m16\u001b[0m, \u001b[38;5;34m16\u001b[0m, \u001b[38;5;34m256\u001b[0m)    │       \u001b[38;5;34m295,168\u001b[0m │\n",
       "├─────────────────────────────────┼────────────────────────┼───────────────┤\n",
       "│ conv2d_7 (\u001b[38;5;33mConv2D\u001b[0m)               │ (\u001b[38;5;45mNone\u001b[0m, \u001b[38;5;34m16\u001b[0m, \u001b[38;5;34m16\u001b[0m, \u001b[38;5;34m256\u001b[0m)    │       \u001b[38;5;34m590,080\u001b[0m │\n",
       "├─────────────────────────────────┼────────────────────────┼───────────────┤\n",
       "│ max_pooling2d_3 (\u001b[38;5;33mMaxPooling2D\u001b[0m)  │ (\u001b[38;5;45mNone\u001b[0m, \u001b[38;5;34m8\u001b[0m, \u001b[38;5;34m8\u001b[0m, \u001b[38;5;34m256\u001b[0m)      │             \u001b[38;5;34m0\u001b[0m │\n",
       "├─────────────────────────────────┼────────────────────────┼───────────────┤\n",
       "│ conv2d_8 (\u001b[38;5;33mConv2D\u001b[0m)               │ (\u001b[38;5;45mNone\u001b[0m, \u001b[38;5;34m8\u001b[0m, \u001b[38;5;34m8\u001b[0m, \u001b[38;5;34m512\u001b[0m)      │     \u001b[38;5;34m1,180,160\u001b[0m │\n",
       "├─────────────────────────────────┼────────────────────────┼───────────────┤\n",
       "│ conv2d_9 (\u001b[38;5;33mConv2D\u001b[0m)               │ (\u001b[38;5;45mNone\u001b[0m, \u001b[38;5;34m8\u001b[0m, \u001b[38;5;34m8\u001b[0m, \u001b[38;5;34m512\u001b[0m)      │     \u001b[38;5;34m2,359,808\u001b[0m │\n",
       "├─────────────────────────────────┼────────────────────────┼───────────────┤\n",
       "│ max_pooling2d_4 (\u001b[38;5;33mMaxPooling2D\u001b[0m)  │ (\u001b[38;5;45mNone\u001b[0m, \u001b[38;5;34m4\u001b[0m, \u001b[38;5;34m4\u001b[0m, \u001b[38;5;34m512\u001b[0m)      │             \u001b[38;5;34m0\u001b[0m │\n",
       "├─────────────────────────────────┼────────────────────────┼───────────────┤\n",
       "│ flatten (\u001b[38;5;33mFlatten\u001b[0m)               │ (\u001b[38;5;45mNone\u001b[0m, \u001b[38;5;34m8192\u001b[0m)           │             \u001b[38;5;34m0\u001b[0m │\n",
       "├─────────────────────────────────┼────────────────────────┼───────────────┤\n",
       "│ dense (\u001b[38;5;33mDense\u001b[0m)                   │ (\u001b[38;5;45mNone\u001b[0m, \u001b[38;5;34m1500\u001b[0m)           │    \u001b[38;5;34m12,289,500\u001b[0m │\n",
       "├─────────────────────────────────┼────────────────────────┼───────────────┤\n",
       "│ dense_1 (\u001b[38;5;33mDense\u001b[0m)                 │ (\u001b[38;5;45mNone\u001b[0m, \u001b[38;5;34m2\u001b[0m)              │         \u001b[38;5;34m3,002\u001b[0m │\n",
       "└─────────────────────────────────┴────────────────────────┴───────────────┘\n"
      ]
     },
     "metadata": {},
     "output_type": "display_data"
    },
    {
     "data": {
      "text/html": [
       "<pre style=\"white-space:pre;overflow-x:auto;line-height:normal;font-family:Menlo,'DejaVu Sans Mono',consolas,'Courier New',monospace\"><span style=\"font-weight: bold\"> Total params: </span><span style=\"color: #00af00; text-decoration-color: #00af00\">17,004,726</span> (64.87 MB)\n",
       "</pre>\n"
      ],
      "text/plain": [
       "\u001b[1m Total params: \u001b[0m\u001b[38;5;34m17,004,726\u001b[0m (64.87 MB)\n"
      ]
     },
     "metadata": {},
     "output_type": "display_data"
    },
    {
     "data": {
      "text/html": [
       "<pre style=\"white-space:pre;overflow-x:auto;line-height:normal;font-family:Menlo,'DejaVu Sans Mono',consolas,'Courier New',monospace\"><span style=\"font-weight: bold\"> Trainable params: </span><span style=\"color: #00af00; text-decoration-color: #00af00\">17,004,726</span> (64.87 MB)\n",
       "</pre>\n"
      ],
      "text/plain": [
       "\u001b[1m Trainable params: \u001b[0m\u001b[38;5;34m17,004,726\u001b[0m (64.87 MB)\n"
      ]
     },
     "metadata": {},
     "output_type": "display_data"
    },
    {
     "data": {
      "text/html": [
       "<pre style=\"white-space:pre;overflow-x:auto;line-height:normal;font-family:Menlo,'DejaVu Sans Mono',consolas,'Courier New',monospace\"><span style=\"font-weight: bold\"> Non-trainable params: </span><span style=\"color: #00af00; text-decoration-color: #00af00\">0</span> (0.00 B)\n",
       "</pre>\n"
      ],
      "text/plain": [
       "\u001b[1m Non-trainable params: \u001b[0m\u001b[38;5;34m0\u001b[0m (0.00 B)\n"
      ]
     },
     "metadata": {},
     "output_type": "display_data"
    }
   ],
   "source": [
    "model.summary()"
   ]
  },
  {
   "cell_type": "markdown",
   "id": "161aa9d5-9b7c-45f7-8776-5c5552e8c470",
   "metadata": {},
   "source": [
    "## Training Model"
   ]
  },
  {
   "cell_type": "code",
   "execution_count": 21,
   "id": "94e98455-0acf-4b59-bd77-13852d951b20",
   "metadata": {},
   "outputs": [
    {
     "name": "stdout",
     "output_type": "stream",
     "text": [
      "Epoch 1/10\n",
      "\u001b[1m15/15\u001b[0m \u001b[32m━━━━━━━━━━━━━━━━━━━━\u001b[0m\u001b[37m\u001b[0m \u001b[1m20s\u001b[0m 948ms/step - accuracy: 0.6407 - loss: 2.6981 - val_accuracy: 0.5569 - val_loss: 0.8942\n",
      "Epoch 2/10\n",
      "\u001b[1m15/15\u001b[0m \u001b[32m━━━━━━━━━━━━━━━━━━━━\u001b[0m\u001b[37m\u001b[0m \u001b[1m21s\u001b[0m 1s/step - accuracy: 0.6479 - loss: 0.6371 - val_accuracy: 0.5569 - val_loss: 0.6842\n",
      "Epoch 3/10\n",
      "\u001b[1m15/15\u001b[0m \u001b[32m━━━━━━━━━━━━━━━━━━━━\u001b[0m\u001b[37m\u001b[0m \u001b[1m21s\u001b[0m 1s/step - accuracy: 0.7664 - loss: 0.4603 - val_accuracy: 0.6545 - val_loss: 0.5610\n",
      "Epoch 4/10\n",
      "\u001b[1m15/15\u001b[0m \u001b[32m━━━━━━━━━━━━━━━━━━━━\u001b[0m\u001b[37m\u001b[0m \u001b[1m21s\u001b[0m 1s/step - accuracy: 0.8268 - loss: 0.3567 - val_accuracy: 0.6951 - val_loss: 0.6214\n",
      "Epoch 5/10\n",
      "\u001b[1m15/15\u001b[0m \u001b[32m━━━━━━━━━━━━━━━━━━━━\u001b[0m\u001b[37m\u001b[0m \u001b[1m21s\u001b[0m 1s/step - accuracy: 0.8007 - loss: 0.3969 - val_accuracy: 0.7073 - val_loss: 0.5510\n",
      "Epoch 6/10\n",
      "\u001b[1m15/15\u001b[0m \u001b[32m━━━━━━━━━━━━━━━━━━━━\u001b[0m\u001b[37m\u001b[0m \u001b[1m21s\u001b[0m 1s/step - accuracy: 0.8798 - loss: 0.2747 - val_accuracy: 0.7317 - val_loss: 0.5565\n",
      "Epoch 7/10\n",
      "\u001b[1m15/15\u001b[0m \u001b[32m━━━━━━━━━━━━━━━━━━━━\u001b[0m\u001b[37m\u001b[0m \u001b[1m21s\u001b[0m 1s/step - accuracy: 0.9028 - loss: 0.2084 - val_accuracy: 0.7154 - val_loss: 0.6520\n",
      "Epoch 8/10\n",
      "\u001b[1m15/15\u001b[0m \u001b[32m━━━━━━━━━━━━━━━━━━━━\u001b[0m\u001b[37m\u001b[0m \u001b[1m21s\u001b[0m 1s/step - accuracy: 0.8881 - loss: 0.2088 - val_accuracy: 0.7480 - val_loss: 0.5945\n",
      "Epoch 9/10\n",
      "\u001b[1m15/15\u001b[0m \u001b[32m━━━━━━━━━━━━━━━━━━━━\u001b[0m\u001b[37m\u001b[0m \u001b[1m20s\u001b[0m 1s/step - accuracy: 0.9478 - loss: 0.1432 - val_accuracy: 0.7073 - val_loss: 0.7458\n",
      "Epoch 10/10\n",
      "\u001b[1m15/15\u001b[0m \u001b[32m━━━━━━━━━━━━━━━━━━━━\u001b[0m\u001b[37m\u001b[0m \u001b[1m18s\u001b[0m 1s/step - accuracy: 0.9269 - loss: 0.1786 - val_accuracy: 0.7602 - val_loss: 0.6491\n"
     ]
    }
   ],
   "source": [
    "training_history = model.fit(x=training_set, validation_data=validation_set, epochs=10) #By equal whole thing to training_history, it can easy to do visualization in future\n",
    "#When runing this if loss is incraesed instead of decreasing its because of overshooting loss function\n",
    "#This can happen because of high learning rate. Default 0.001 turn into o.ooo1 (https://www.tensorflow.org/api_docs/python/tf/keras/optimizers/Adam)\n",
    "#There may be a chance of underfitiing. So increase number of neurons or can add more convolution layers."
   ]
  },
  {
   "cell_type": "markdown",
   "id": "71e17185-411d-466b-b3af-f792b27f2cc4",
   "metadata": {},
   "source": [
    "## Model Evaluation"
   ]
  },
  {
   "cell_type": "markdown",
   "id": "a36ebd43-bd75-4189-aa6c-b7dd56691fc3",
   "metadata": {},
   "source": [
    "### Model Evaluation on Training Set"
   ]
  },
  {
   "cell_type": "code",
   "execution_count": 22,
   "id": "0523d6ac-9b27-460c-82b2-ed210e55c81a",
   "metadata": {},
   "outputs": [
    {
     "name": "stdout",
     "output_type": "stream",
     "text": [
      "\u001b[1m15/15\u001b[0m \u001b[32m━━━━━━━━━━━━━━━━━━━━\u001b[0m\u001b[37m\u001b[0m \u001b[1m3s\u001b[0m 208ms/step - accuracy: 0.9764 - loss: 0.0881\n"
     ]
    }
   ],
   "source": [
    "train_loss_acc = model.evaluate(training_set)"
   ]
  },
  {
   "cell_type": "markdown",
   "id": "ff698b48-229e-478d-9358-0d85a45b6cf3",
   "metadata": {},
   "source": [
    "### Model Evaluation on Training Set"
   ]
  },
  {
   "cell_type": "code",
   "execution_count": 23,
   "id": "f6885495-9768-43f6-89a4-6f753bc3c066",
   "metadata": {},
   "outputs": [
    {
     "name": "stdout",
     "output_type": "stream",
     "text": [
      "\u001b[1m8/8\u001b[0m \u001b[32m━━━━━━━━━━━━━━━━━━━━\u001b[0m\u001b[37m\u001b[0m \u001b[1m2s\u001b[0m 199ms/step - accuracy: 0.7406 - loss: 0.6849\n"
     ]
    }
   ],
   "source": [
    "valid_loss_acc = model.evaluate(validation_set)"
   ]
  },
  {
   "cell_type": "markdown",
   "id": "bf924d02-e2cf-4001-b8fe-8c34520530aa",
   "metadata": {},
   "source": [
    "## Saving Model"
   ]
  },
  {
   "cell_type": "code",
   "execution_count": 24,
   "id": "0df54708-881b-4cd3-8b20-24f9272ee51b",
   "metadata": {},
   "outputs": [],
   "source": [
    "model.save(\"trained_model1.keras\")"
   ]
  },
  {
   "cell_type": "markdown",
   "id": "20b9ec30-8cdf-4e1d-be88-43e4c0b407a6",
   "metadata": {},
   "source": [
    "## Visualization"
   ]
  },
  {
   "cell_type": "code",
   "execution_count": 25,
   "id": "508a4b0d-6e4f-4bc4-b0d5-f13f73e5da58",
   "metadata": {},
   "outputs": [
    {
     "data": {
      "text/plain": [
       "{'accuracy': [0.6419214010238647,\n",
       "  0.6899563074111938,\n",
       "  0.7620087265968323,\n",
       "  0.8318777084350586,\n",
       "  0.836244523525238,\n",
       "  0.875545859336853,\n",
       "  0.903930127620697,\n",
       "  0.8973799347877502,\n",
       "  0.9410480260848999,\n",
       "  0.9257642030715942],\n",
       " 'loss': [1.7087994813919067,\n",
       "  0.5714853405952454,\n",
       "  0.4522205591201782,\n",
       "  0.33431848883628845,\n",
       "  0.35292336344718933,\n",
       "  0.27851542830467224,\n",
       "  0.20838917791843414,\n",
       "  0.2062603384256363,\n",
       "  0.16106931865215302,\n",
       "  0.1723708063364029],\n",
       " 'val_accuracy': [0.5569105744361877,\n",
       "  0.5569105744361877,\n",
       "  0.6544715166091919,\n",
       "  0.6951219439506531,\n",
       "  0.707317054271698,\n",
       "  0.7317073345184326,\n",
       "  0.7154471278190613,\n",
       "  0.7479674816131592,\n",
       "  0.707317054271698,\n",
       "  0.7601625919342041],\n",
       " 'val_loss': [0.8942435383796692,\n",
       "  0.6842176914215088,\n",
       "  0.5609755516052246,\n",
       "  0.6213546991348267,\n",
       "  0.5509593486785889,\n",
       "  0.5564999580383301,\n",
       "  0.6519562005996704,\n",
       "  0.5945291519165039,\n",
       "  0.7457890510559082,\n",
       "  0.6491034030914307]}"
      ]
     },
     "execution_count": 25,
     "metadata": {},
     "output_type": "execute_result"
    }
   ],
   "source": [
    "training_history.history"
   ]
  },
  {
   "cell_type": "markdown",
   "id": "aab5fd23-6f6f-4c7e-9a1f-64241e583569",
   "metadata": {},
   "source": [
    "## Recording History in json"
   ]
  },
  {
   "cell_type": "code",
   "execution_count": 26,
   "id": "bd1cfd36-1f40-4b25-a908-26c88cfd0bed",
   "metadata": {},
   "outputs": [],
   "source": [
    "import json\n",
    "with open(\"training_history.json\",\"w\") as f:\n",
    "    json.dump(training_history.history,f)"
   ]
  },
  {
   "cell_type": "markdown",
   "id": "859a97ee-54e3-49f4-95fa-817500bb8182",
   "metadata": {},
   "source": [
    "## Accuracy Visualization"
   ]
  },
  {
   "cell_type": "code",
   "execution_count": 27,
   "id": "a4ad23e1-ee35-479f-af28-e20f79781a8d",
   "metadata": {},
   "outputs": [
    {
     "data": {
      "image/png": "[encoded data removed]",
      "text/plain": [
       "<Figure size 640x480 with 1 Axes>"
      ]
     },
     "metadata": {},
     "output_type": "display_data"
    }
   ],
   "source": [
    "epochs = [i for i in range(1,11)]\n",
    "plt.plot(epochs, training_history.history['accuracy'], color='red', label='Training Accuracy')\n",
    "plt.plot(epochs, training_history.history['val_accuracy'], color='blue', label='Validation Accuracy')\n",
    "plt.xlabel(\"No of Epochs\")\n",
    "plt.ylabel(\"Accuracy Result\")\n",
    "plt.title(\"Visualization of Accuracy Result\")\n",
    "plt.legend()\n",
    "plt.show()"
   ]
  },
  {
   "cell_type": "markdown",
   "id": "0f6d5dec-36c3-4901-8b1f-465189f85b8f",
   "metadata": {},
   "source": [
    "## Other Matrics For Model Evaluation"
   ]
  },
  {
   "cell_type": "code",
   "execution_count": 28,
   "id": "8d6cec99-5fa7-451a-bd5d-a7dc8413d1b0",
   "metadata": {},
   "outputs": [
    {
     "data": {
      "text/plain": [
       "['Disease', 'Healthy']"
      ]
     },
     "execution_count": 28,
     "metadata": {},
     "output_type": "execute_result"
    }
   ],
   "source": [
    "class_name = validation_set.class_names\n",
    "class_name"
   ]
  },
  {
   "cell_type": "code",
   "execution_count": 29,
   "id": "57ea5e8a-ee5e-437a-961d-b5f261415390",
   "metadata": {},
   "outputs": [
    {
     "name": "stdout",
     "output_type": "stream",
     "text": [
      "Found 246 files belonging to 2 classes.\n"
     ]
    }
   ],
   "source": [
    "test_set = tf.keras.utils.image_dataset_from_directory( #Keras image data loding (https://keras.io/api/data_loading/image/)\n",
    "    'valid', #Folder name (where the data is located)\n",
    "    labels=\"inferred\", #Labels are generated from the directory structure\n",
    "    label_mode=\"categorical\", #Labels are encoded as a categorical vector\n",
    "    class_names=None,\n",
    "    color_mode=\"rgb\",\n",
    "    batch_size=32, #If you want to speed up the training process then change this in to 64 or 128\n",
    "    image_size=(128, 128),\n",
    "    shuffle=False, #Change in to false to pass it sequentialy\n",
    "    seed=None,\n",
    "    validation_split=None,\n",
    "    subset=None,\n",
    "    interpolation=\"bilinear\",\n",
    "    follow_links=False,\n",
    "    crop_to_aspect_ratio=False,\n",
    "    pad_to_aspect_ratio=False,\n",
    "    data_format=None,\n",
    "    verbose=True,\n",
    ")"
   ]
  },
  {
   "cell_type": "code",
   "execution_count": 30,
   "id": "3e32b4c0-25d1-4b93-9ee1-142d61bc3284",
   "metadata": {},
   "outputs": [
    {
     "name": "stdout",
     "output_type": "stream",
     "text": [
      "\u001b[1m8/8\u001b[0m \u001b[32m━━━━━━━━━━━━━━━━━━━━\u001b[0m\u001b[37m\u001b[0m \u001b[1m2s\u001b[0m 216ms/step\n"
     ]
    },
    {
     "data": {
      "text/plain": [
       "(array([[2.57668763e-01, 7.42331266e-01],\n",
       "        [9.79168341e-02, 9.02083218e-01],\n",
       "        [6.31936550e-01, 3.68063360e-01],\n",
       "        [5.70826866e-02, 9.42917287e-01],\n",
       "        [1.59923390e-01, 8.40076566e-01],\n",
       "        [4.38479424e-01, 5.61520636e-01],\n",
       "        [3.59480768e-01, 6.40519202e-01],\n",
       "        [4.08707857e-01, 5.91292143e-01],\n",
       "        [8.74444306e-01, 1.25555724e-01],\n",
       "        [2.42800172e-02, 9.75719988e-01],\n",
       "        [6.89245835e-02, 9.31075454e-01],\n",
       "        [1.41268849e-01, 8.58731151e-01],\n",
       "        [1.25035018e-01, 8.74965012e-01],\n",
       "        [5.36703944e-01, 4.63296056e-01],\n",
       "        [7.85514712e-01, 2.14485317e-01],\n",
       "        [4.49221302e-03, 9.95507836e-01],\n",
       "        [6.68421388e-01, 3.31578642e-01],\n",
       "        [7.81227887e-01, 2.18772143e-01],\n",
       "        [4.08593863e-01, 5.91406107e-01],\n",
       "        [8.74805730e-03, 9.91251886e-01],\n",
       "        [5.51883638e-01, 4.48116362e-01],\n",
       "        [9.88132179e-01, 1.18678296e-02],\n",
       "        [6.99272975e-02, 9.30072784e-01],\n",
       "        [1.38611481e-01, 8.61388505e-01],\n",
       "        [1.20596260e-01, 8.79403770e-01],\n",
       "        [8.29845250e-01, 1.70154721e-01],\n",
       "        [6.61333203e-02, 9.33866680e-01],\n",
       "        [3.02088857e-01, 6.97911084e-01],\n",
       "        [2.76320457e-01, 7.23679543e-01],\n",
       "        [8.63252342e-01, 1.36747628e-01],\n",
       "        [6.43110052e-02, 9.35688972e-01],\n",
       "        [6.89041853e-01, 3.10958147e-01],\n",
       "        [5.17453790e-01, 4.82546210e-01],\n",
       "        [4.35193628e-01, 5.64806342e-01],\n",
       "        [1.55953273e-01, 8.44046712e-01],\n",
       "        [8.08432519e-01, 1.91567510e-01],\n",
       "        [9.76015687e-01, 2.39843279e-02],\n",
       "        [4.08436209e-01, 5.91563821e-01],\n",
       "        [7.12455512e-05, 9.99928713e-01],\n",
       "        [5.05714297e-01, 4.94285673e-01],\n",
       "        [7.48278677e-01, 2.51721293e-01],\n",
       "        [4.53211330e-02, 9.54678893e-01],\n",
       "        [5.42837568e-02, 9.45716262e-01],\n",
       "        [9.27360296e-01, 7.26396814e-02],\n",
       "        [2.23486368e-02, 9.77651298e-01],\n",
       "        [8.67529273e-01, 1.32470712e-01],\n",
       "        [3.44392657e-01, 6.55607343e-01],\n",
       "        [6.34356439e-01, 3.65643620e-01],\n",
       "        [3.75862062e-01, 6.24137998e-01],\n",
       "        [7.15451896e-01, 2.84548074e-01],\n",
       "        [9.94096518e-01, 5.90348057e-03],\n",
       "        [1.67725906e-01, 8.32274079e-01],\n",
       "        [2.68947661e-01, 7.31052339e-01],\n",
       "        [4.63297544e-03, 9.95367050e-01],\n",
       "        [9.92765009e-01, 7.23495521e-03],\n",
       "        [7.80143321e-01, 2.19856694e-01],\n",
       "        [1.53531596e-01, 8.46468449e-01],\n",
       "        [3.48818600e-01, 6.51181459e-01],\n",
       "        [8.80881011e-01, 1.19118981e-01],\n",
       "        [8.86375844e-01, 1.13624096e-01],\n",
       "        [9.96448874e-01, 3.55115556e-03],\n",
       "        [9.95472193e-01, 4.52777976e-03],\n",
       "        [9.93251979e-01, 6.74796663e-03],\n",
       "        [9.96230304e-01, 3.76964291e-03],\n",
       "        [9.96868789e-01, 3.13120801e-03],\n",
       "        [9.99491811e-01, 5.08171739e-04],\n",
       "        [9.92699802e-01, 7.30022043e-03],\n",
       "        [9.97307062e-01, 2.69294600e-03],\n",
       "        [9.86365318e-01, 1.36346538e-02],\n",
       "        [9.99444187e-01, 5.55795268e-04],\n",
       "        [5.56577921e-01, 4.43422109e-01],\n",
       "        [4.48045552e-01, 5.51954448e-01],\n",
       "        [8.86163712e-01, 1.13836281e-01],\n",
       "        [8.57984841e-01, 1.42015129e-01],\n",
       "        [4.67138648e-01, 5.32861352e-01],\n",
       "        [8.09313953e-01, 1.90686002e-01],\n",
       "        [9.94004667e-01, 5.99537557e-03],\n",
       "        [8.39308679e-01, 1.60691366e-01],\n",
       "        [9.78757203e-01, 2.12428123e-02],\n",
       "        [7.77980983e-01, 2.22018972e-01],\n",
       "        [6.97274745e-01, 3.02725255e-01],\n",
       "        [5.44142962e-01, 4.55857038e-01],\n",
       "        [9.13554788e-01, 8.64451900e-02],\n",
       "        [9.00697827e-01, 9.93021503e-02],\n",
       "        [9.96405363e-01, 3.59464088e-03],\n",
       "        [9.99620318e-01, 3.79631150e-04],\n",
       "        [9.99928355e-01, 7.15963033e-05],\n",
       "        [9.96876121e-01, 3.12387268e-03],\n",
       "        [9.98590767e-01, 1.40922540e-03],\n",
       "        [9.80442464e-01, 1.95575655e-02],\n",
       "        [9.99637961e-01, 3.62002233e-04],\n",
       "        [9.99707997e-01, 2.91989621e-04],\n",
       "        [9.98214245e-01, 1.78582745e-03],\n",
       "        [9.99777019e-01, 2.23030933e-04],\n",
       "        [9.99996781e-01, 3.23852146e-06],\n",
       "        [9.99963045e-01, 3.70047346e-05],\n",
       "        [9.99999762e-01, 2.97271527e-07],\n",
       "        [9.86936748e-01, 1.30633013e-02],\n",
       "        [5.09517252e-01, 4.90482748e-01],\n",
       "        [9.78333354e-01, 2.16666795e-02],\n",
       "        [5.88816464e-01, 4.11183566e-01],\n",
       "        [9.99887228e-01, 1.12749738e-04],\n",
       "        [9.99976158e-01, 2.38022840e-05],\n",
       "        [9.99627113e-01, 3.72887735e-04],\n",
       "        [9.99103606e-01, 8.96418176e-04],\n",
       "        [9.99720752e-01, 2.79181637e-04],\n",
       "        [9.99978065e-01, 2.19306421e-05],\n",
       "        [9.99859929e-01, 1.40012984e-04],\n",
       "        [9.99905467e-01, 9.45765496e-05],\n",
       "        [9.99988794e-01, 1.12032794e-05],\n",
       "        [9.99653578e-01, 3.46403132e-04],\n",
       "        [9.99978065e-01, 2.19686135e-05],\n",
       "        [9.99932766e-01, 6.72840761e-05],\n",
       "        [9.99837875e-01, 1.62039156e-04],\n",
       "        [9.99885082e-01, 1.14904447e-04],\n",
       "        [9.99683499e-01, 3.16461344e-04],\n",
       "        [9.99900460e-01, 9.95511073e-05],\n",
       "        [9.99654174e-01, 3.45782522e-04],\n",
       "        [9.99791920e-01, 2.08054189e-04],\n",
       "        [9.99930739e-01, 6.93127877e-05],\n",
       "        [9.99730647e-01, 2.69325043e-04],\n",
       "        [9.99761522e-01, 2.38489185e-04],\n",
       "        [9.99341071e-01, 6.58878882e-04],\n",
       "        [9.99202192e-01, 7.97768007e-04],\n",
       "        [9.99951005e-01, 4.90400671e-05],\n",
       "        [9.94771183e-01, 5.22883004e-03],\n",
       "        [9.96246517e-01, 3.75342323e-03],\n",
       "        [9.99567211e-01, 4.32810484e-04],\n",
       "        [9.99332488e-01, 6.67435641e-04],\n",
       "        [9.91544127e-01, 8.45591538e-03],\n",
       "        [9.70933259e-01, 2.90667117e-02],\n",
       "        [9.89780545e-01, 1.02194054e-02],\n",
       "        [9.97832954e-01, 2.16702884e-03],\n",
       "        [9.99739945e-01, 2.59999681e-04],\n",
       "        [9.99605715e-01, 3.94315808e-04],\n",
       "        [9.98841703e-01, 1.15833129e-03],\n",
       "        [9.99906421e-01, 9.36248543e-05],\n",
       "        [3.32362461e-03, 9.96676326e-01],\n",
       "        [2.46843889e-01, 7.53156066e-01],\n",
       "        [4.35307056e-01, 5.64692974e-01],\n",
       "        [1.59119740e-01, 8.40880275e-01],\n",
       "        [6.84259052e-04, 9.99315739e-01],\n",
       "        [5.20212278e-02, 9.47978735e-01],\n",
       "        [9.55253490e-05, 9.99904513e-01],\n",
       "        [4.12193984e-01, 5.87806046e-01],\n",
       "        [2.14185030e-03, 9.97858107e-01],\n",
       "        [5.09802580e-01, 4.90197450e-01],\n",
       "        [1.29003003e-01, 8.70997012e-01],\n",
       "        [4.69254047e-01, 5.30745983e-01],\n",
       "        [5.19509874e-02, 9.48049009e-01],\n",
       "        [6.95368350e-02, 9.30463135e-01],\n",
       "        [2.66666979e-01, 7.33332992e-01],\n",
       "        [1.43723693e-02, 9.85627651e-01],\n",
       "        [2.42138162e-01, 7.57861912e-01],\n",
       "        [4.89755869e-01, 5.10244131e-01],\n",
       "        [4.57939565e-01, 5.42060494e-01],\n",
       "        [1.99359372e-01, 8.00640643e-01],\n",
       "        [8.46287251e-01, 1.53712749e-01],\n",
       "        [5.63320398e-01, 4.36679631e-01],\n",
       "        [1.65862385e-02, 9.83413756e-01],\n",
       "        [8.36315900e-02, 9.16368425e-01],\n",
       "        [2.62832701e-01, 7.37167239e-01],\n",
       "        [8.27999189e-02, 9.17200029e-01],\n",
       "        [2.49759853e-01, 7.50240207e-01],\n",
       "        [6.54847734e-03, 9.93451476e-01],\n",
       "        [2.73972034e-01, 7.26027906e-01],\n",
       "        [2.20504537e-01, 7.79495418e-01],\n",
       "        [3.45044881e-01, 6.54955089e-01],\n",
       "        [3.57973389e-02, 9.64202702e-01],\n",
       "        [1.49294175e-02, 9.85070586e-01],\n",
       "        [5.96237779e-01, 4.03762251e-01],\n",
       "        [8.83692086e-01, 1.16307855e-01],\n",
       "        [3.33512634e-01, 6.66487396e-01],\n",
       "        [1.87722612e-02, 9.81227696e-01],\n",
       "        [7.67580792e-02, 9.23241854e-01],\n",
       "        [2.97288328e-01, 7.02711701e-01],\n",
       "        [2.80509531e-01, 7.19490469e-01],\n",
       "        [2.27202252e-01, 7.72797704e-01],\n",
       "        [1.91057786e-01, 8.08942258e-01],\n",
       "        [1.15522549e-01, 8.84477437e-01],\n",
       "        [1.35772012e-03, 9.98642266e-01],\n",
       "        [8.46927613e-03, 9.91530776e-01],\n",
       "        [2.47547571e-02, 9.75245237e-01],\n",
       "        [9.62664902e-01, 3.73351574e-02],\n",
       "        [3.01943928e-01, 6.98056042e-01],\n",
       "        [9.49192718e-02, 9.05080736e-01],\n",
       "        [8.18319444e-04, 9.99181688e-01],\n",
       "        [8.95957276e-02, 9.10404265e-01],\n",
       "        [1.05116822e-01, 8.94883156e-01],\n",
       "        [1.22739123e-02, 9.87726152e-01],\n",
       "        [6.60413429e-02, 9.33958590e-01],\n",
       "        [2.84880280e-01, 7.15119720e-01],\n",
       "        [1.01762032e-02, 9.89823759e-01],\n",
       "        [6.08930095e-05, 9.99939084e-01],\n",
       "        [1.61305647e-02, 9.83869493e-01],\n",
       "        [6.05002232e-02, 9.39499855e-01],\n",
       "        [1.05861120e-03, 9.98941362e-01],\n",
       "        [3.44773740e-01, 6.55226231e-01],\n",
       "        [2.94668794e-01, 7.05331206e-01],\n",
       "        [2.55193561e-01, 7.44806409e-01],\n",
       "        [3.81793194e-02, 9.61820722e-01],\n",
       "        [1.73305999e-02, 9.82669353e-01],\n",
       "        [1.27263427e-01, 8.72736573e-01],\n",
       "        [5.68601072e-01, 4.31398928e-01],\n",
       "        [2.92307213e-02, 9.70769346e-01],\n",
       "        [1.63206577e-01, 8.36793423e-01],\n",
       "        [1.63949773e-01, 8.36050272e-01],\n",
       "        [9.99474227e-01, 5.25849464e-04],\n",
       "        [3.67818445e-01, 6.32181585e-01],\n",
       "        [6.60405261e-03, 9.93395984e-01],\n",
       "        [7.32041836e-01, 2.67958164e-01],\n",
       "        [3.37489285e-02, 9.66251075e-01],\n",
       "        [6.27762556e-01, 3.72237414e-01],\n",
       "        [2.26158455e-01, 7.73841560e-01],\n",
       "        [9.78510737e-01, 2.14892570e-02],\n",
       "        [4.45113704e-02, 9.55488622e-01],\n",
       "        [7.68311396e-02, 9.23168838e-01],\n",
       "        [3.48948352e-02, 9.65105116e-01],\n",
       "        [6.00269716e-03, 9.93997335e-01],\n",
       "        [1.27911970e-01, 8.72088075e-01],\n",
       "        [1.94549635e-01, 8.05450380e-01],\n",
       "        [2.78861135e-01, 7.21138835e-01],\n",
       "        [4.83303607e-01, 5.16696453e-01],\n",
       "        [9.62262690e-01, 3.77372429e-02],\n",
       "        [6.56920910e-01, 3.43079060e-01],\n",
       "        [7.94034600e-01, 2.05965370e-01],\n",
       "        [9.80093122e-01, 1.99068971e-02],\n",
       "        [6.90089166e-01, 3.09910834e-01],\n",
       "        [6.26009524e-01, 3.73990476e-01],\n",
       "        [9.76538718e-01, 2.34613493e-02],\n",
       "        [9.73867238e-01, 2.61328164e-02],\n",
       "        [7.45516956e-01, 2.54483104e-01],\n",
       "        [8.17219540e-02, 9.18278098e-01],\n",
       "        [1.77362278e-01, 8.22637737e-01],\n",
       "        [3.39304864e-01, 6.60695136e-01],\n",
       "        [9.24101770e-02, 9.07589853e-01],\n",
       "        [1.63420569e-02, 9.83657897e-01],\n",
       "        [3.69313434e-02, 9.63068604e-01],\n",
       "        [2.93938905e-01, 7.06061006e-01],\n",
       "        [9.09162104e-01, 9.08378810e-02],\n",
       "        [1.13039471e-01, 8.86960506e-01],\n",
       "        [1.42402425e-01, 8.57597589e-01],\n",
       "        [2.38881007e-01, 7.61118948e-01],\n",
       "        [2.83951517e-02, 9.71604884e-01],\n",
       "        [6.10273540e-01, 3.89726430e-01],\n",
       "        [4.24968377e-02, 9.57503200e-01]], dtype=float32),\n",
       " (246, 2))"
      ]
     },
     "execution_count": 30,
     "metadata": {},
     "output_type": "execute_result"
    }
   ],
   "source": [
    "y_pred = model.predict(test_set)\n",
    "y_pred,y_pred.shape"
   ]
  },
  {
   "cell_type": "code",
   "execution_count": 31,
   "id": "bf0dfa32-b9f1-4db3-8a8d-cbdcab4919e0",
   "metadata": {},
   "outputs": [
    {
     "data": {
      "text/plain": [
       "<tf.Tensor: shape=(246,), dtype=int64, numpy=\n",
       "array([1, 1, 0, 1, 1, 1, 1, 1, 0, 1, 1, 1, 1, 0, 0, 1, 0, 0, 1, 1, 0, 0,\n",
       "       1, 1, 1, 0, 1, 1, 1, 0, 1, 0, 0, 1, 1, 0, 0, 1, 1, 0, 0, 1, 1, 0,\n",
       "       1, 0, 1, 0, 1, 0, 0, 1, 1, 1, 0, 0, 1, 1, 0, 0, 0, 0, 0, 0, 0, 0,\n",
       "       0, 0, 0, 0, 0, 1, 0, 0, 1, 0, 0, 0, 0, 0, 0, 0, 0, 0, 0, 0, 0, 0,\n",
       "       0, 0, 0, 0, 0, 0, 0, 0, 0, 0, 0, 0, 0, 0, 0, 0, 0, 0, 0, 0, 0, 0,\n",
       "       0, 0, 0, 0, 0, 0, 0, 0, 0, 0, 0, 0, 0, 0, 0, 0, 0, 0, 0, 0, 0, 0,\n",
       "       0, 0, 0, 0, 0, 1, 1, 1, 1, 1, 1, 1, 1, 1, 0, 1, 1, 1, 1, 1, 1, 1,\n",
       "       1, 1, 1, 0, 0, 1, 1, 1, 1, 1, 1, 1, 1, 1, 1, 1, 0, 0, 1, 1, 1, 1,\n",
       "       1, 1, 1, 1, 1, 1, 1, 0, 1, 1, 1, 1, 1, 1, 1, 1, 1, 1, 1, 1, 1, 1,\n",
       "       1, 1, 1, 1, 1, 0, 1, 1, 1, 0, 1, 1, 0, 1, 0, 1, 0, 1, 1, 1, 1, 1,\n",
       "       1, 1, 1, 0, 0, 0, 0, 0, 0, 0, 0, 0, 1, 1, 1, 1, 1, 1, 1, 0, 1, 1,\n",
       "       1, 1, 0, 1], dtype=int64)>"
      ]
     },
     "execution_count": 31,
     "metadata": {},
     "output_type": "execute_result"
    }
   ],
   "source": [
    "predicted_categories = tf.argmax(y_pred,axis=1) #Return the maximum value and its index\n",
    "predicted_categories"
   ]
  },
  {
   "cell_type": "code",
   "execution_count": 32,
   "id": "e0f7f3e5-05a2-40c0-bd09-a8d64df5c176",
   "metadata": {},
   "outputs": [
    {
     "data": {
      "text/plain": [
       "<tf.Tensor: shape=(246, 2), dtype=float32, numpy=\n",
       "array([[1., 0.],\n",
       "       [1., 0.],\n",
       "       [1., 0.],\n",
       "       [1., 0.],\n",
       "       [1., 0.],\n",
       "       [1., 0.],\n",
       "       [1., 0.],\n",
       "       [1., 0.],\n",
       "       [1., 0.],\n",
       "       [1., 0.],\n",
       "       [1., 0.],\n",
       "       [1., 0.],\n",
       "       [1., 0.],\n",
       "       [1., 0.],\n",
       "       [1., 0.],\n",
       "       [1., 0.],\n",
       "       [1., 0.],\n",
       "       [1., 0.],\n",
       "       [1., 0.],\n",
       "       [1., 0.],\n",
       "       [1., 0.],\n",
       "       [1., 0.],\n",
       "       [1., 0.],\n",
       "       [1., 0.],\n",
       "       [1., 0.],\n",
       "       [1., 0.],\n",
       "       [1., 0.],\n",
       "       [1., 0.],\n",
       "       [1., 0.],\n",
       "       [1., 0.],\n",
       "       [1., 0.],\n",
       "       [1., 0.],\n",
       "       [1., 0.],\n",
       "       [1., 0.],\n",
       "       [1., 0.],\n",
       "       [1., 0.],\n",
       "       [1., 0.],\n",
       "       [1., 0.],\n",
       "       [1., 0.],\n",
       "       [1., 0.],\n",
       "       [1., 0.],\n",
       "       [1., 0.],\n",
       "       [1., 0.],\n",
       "       [1., 0.],\n",
       "       [1., 0.],\n",
       "       [1., 0.],\n",
       "       [1., 0.],\n",
       "       [1., 0.],\n",
       "       [1., 0.],\n",
       "       [1., 0.],\n",
       "       [1., 0.],\n",
       "       [1., 0.],\n",
       "       [1., 0.],\n",
       "       [1., 0.],\n",
       "       [1., 0.],\n",
       "       [1., 0.],\n",
       "       [1., 0.],\n",
       "       [1., 0.],\n",
       "       [1., 0.],\n",
       "       [1., 0.],\n",
       "       [1., 0.],\n",
       "       [1., 0.],\n",
       "       [1., 0.],\n",
       "       [1., 0.],\n",
       "       [1., 0.],\n",
       "       [1., 0.],\n",
       "       [1., 0.],\n",
       "       [1., 0.],\n",
       "       [1., 0.],\n",
       "       [1., 0.],\n",
       "       [1., 0.],\n",
       "       [1., 0.],\n",
       "       [1., 0.],\n",
       "       [1., 0.],\n",
       "       [1., 0.],\n",
       "       [1., 0.],\n",
       "       [1., 0.],\n",
       "       [1., 0.],\n",
       "       [1., 0.],\n",
       "       [1., 0.],\n",
       "       [1., 0.],\n",
       "       [1., 0.],\n",
       "       [1., 0.],\n",
       "       [1., 0.],\n",
       "       [1., 0.],\n",
       "       [1., 0.],\n",
       "       [1., 0.],\n",
       "       [1., 0.],\n",
       "       [1., 0.],\n",
       "       [1., 0.],\n",
       "       [1., 0.],\n",
       "       [1., 0.],\n",
       "       [1., 0.],\n",
       "       [1., 0.],\n",
       "       [1., 0.],\n",
       "       [1., 0.],\n",
       "       [1., 0.],\n",
       "       [1., 0.],\n",
       "       [1., 0.],\n",
       "       [1., 0.],\n",
       "       [1., 0.],\n",
       "       [1., 0.],\n",
       "       [1., 0.],\n",
       "       [1., 0.],\n",
       "       [1., 0.],\n",
       "       [1., 0.],\n",
       "       [1., 0.],\n",
       "       [1., 0.],\n",
       "       [1., 0.],\n",
       "       [1., 0.],\n",
       "       [1., 0.],\n",
       "       [1., 0.],\n",
       "       [1., 0.],\n",
       "       [1., 0.],\n",
       "       [1., 0.],\n",
       "       [1., 0.],\n",
       "       [1., 0.],\n",
       "       [1., 0.],\n",
       "       [1., 0.],\n",
       "       [1., 0.],\n",
       "       [1., 0.],\n",
       "       [1., 0.],\n",
       "       [1., 0.],\n",
       "       [1., 0.],\n",
       "       [1., 0.],\n",
       "       [1., 0.],\n",
       "       [1., 0.],\n",
       "       [1., 0.],\n",
       "       [1., 0.],\n",
       "       [1., 0.],\n",
       "       [1., 0.],\n",
       "       [1., 0.],\n",
       "       [1., 0.],\n",
       "       [1., 0.],\n",
       "       [1., 0.],\n",
       "       [1., 0.],\n",
       "       [1., 0.],\n",
       "       [0., 1.],\n",
       "       [0., 1.],\n",
       "       [0., 1.],\n",
       "       [0., 1.],\n",
       "       [0., 1.],\n",
       "       [0., 1.],\n",
       "       [0., 1.],\n",
       "       [0., 1.],\n",
       "       [0., 1.],\n",
       "       [0., 1.],\n",
       "       [0., 1.],\n",
       "       [0., 1.],\n",
       "       [0., 1.],\n",
       "       [0., 1.],\n",
       "       [0., 1.],\n",
       "       [0., 1.],\n",
       "       [0., 1.],\n",
       "       [0., 1.],\n",
       "       [0., 1.],\n",
       "       [0., 1.],\n",
       "       [0., 1.],\n",
       "       [0., 1.],\n",
       "       [0., 1.],\n",
       "       [0., 1.],\n",
       "       [0., 1.],\n",
       "       [0., 1.],\n",
       "       [0., 1.],\n",
       "       [0., 1.],\n",
       "       [0., 1.],\n",
       "       [0., 1.],\n",
       "       [0., 1.],\n",
       "       [0., 1.],\n",
       "       [0., 1.],\n",
       "       [0., 1.],\n",
       "       [0., 1.],\n",
       "       [0., 1.],\n",
       "       [0., 1.],\n",
       "       [0., 1.],\n",
       "       [0., 1.],\n",
       "       [0., 1.],\n",
       "       [0., 1.],\n",
       "       [0., 1.],\n",
       "       [0., 1.],\n",
       "       [0., 1.],\n",
       "       [0., 1.],\n",
       "       [0., 1.],\n",
       "       [0., 1.],\n",
       "       [0., 1.],\n",
       "       [0., 1.],\n",
       "       [0., 1.],\n",
       "       [0., 1.],\n",
       "       [0., 1.],\n",
       "       [0., 1.],\n",
       "       [0., 1.],\n",
       "       [0., 1.],\n",
       "       [0., 1.],\n",
       "       [0., 1.],\n",
       "       [0., 1.],\n",
       "       [0., 1.],\n",
       "       [0., 1.],\n",
       "       [0., 1.],\n",
       "       [0., 1.],\n",
       "       [0., 1.],\n",
       "       [0., 1.],\n",
       "       [0., 1.],\n",
       "       [0., 1.],\n",
       "       [0., 1.],\n",
       "       [0., 1.],\n",
       "       [0., 1.],\n",
       "       [0., 1.],\n",
       "       [0., 1.],\n",
       "       [0., 1.],\n",
       "       [0., 1.],\n",
       "       [0., 1.],\n",
       "       [0., 1.],\n",
       "       [0., 1.],\n",
       "       [0., 1.],\n",
       "       [0., 1.],\n",
       "       [0., 1.],\n",
       "       [0., 1.],\n",
       "       [0., 1.],\n",
       "       [0., 1.],\n",
       "       [0., 1.],\n",
       "       [0., 1.],\n",
       "       [0., 1.],\n",
       "       [0., 1.],\n",
       "       [0., 1.],\n",
       "       [0., 1.],\n",
       "       [0., 1.],\n",
       "       [0., 1.],\n",
       "       [0., 1.],\n",
       "       [0., 1.],\n",
       "       [0., 1.],\n",
       "       [0., 1.],\n",
       "       [0., 1.],\n",
       "       [0., 1.],\n",
       "       [0., 1.],\n",
       "       [0., 1.],\n",
       "       [0., 1.],\n",
       "       [0., 1.],\n",
       "       [0., 1.],\n",
       "       [0., 1.],\n",
       "       [0., 1.],\n",
       "       [0., 1.],\n",
       "       [0., 1.],\n",
       "       [0., 1.],\n",
       "       [0., 1.],\n",
       "       [0., 1.],\n",
       "       [0., 1.]], dtype=float32)>"
      ]
     },
     "execution_count": 32,
     "metadata": {},
     "output_type": "execute_result"
    }
   ],
   "source": [
    "true_categories = tf.concat([y for x,y in test_set],axis=0)\n",
    "true_categories"
   ]
  },
  {
   "cell_type": "code",
   "execution_count": 33,
   "id": "ae50e9e9-c94e-48e8-8909-3a0e97094c5a",
   "metadata": {},
   "outputs": [
    {
     "data": {
      "text/plain": [
       "<tf.Tensor: shape=(246,), dtype=int64, numpy=\n",
       "array([0, 0, 0, 0, 0, 0, 0, 0, 0, 0, 0, 0, 0, 0, 0, 0, 0, 0, 0, 0, 0, 0,\n",
       "       0, 0, 0, 0, 0, 0, 0, 0, 0, 0, 0, 0, 0, 0, 0, 0, 0, 0, 0, 0, 0, 0,\n",
       "       0, 0, 0, 0, 0, 0, 0, 0, 0, 0, 0, 0, 0, 0, 0, 0, 0, 0, 0, 0, 0, 0,\n",
       "       0, 0, 0, 0, 0, 0, 0, 0, 0, 0, 0, 0, 0, 0, 0, 0, 0, 0, 0, 0, 0, 0,\n",
       "       0, 0, 0, 0, 0, 0, 0, 0, 0, 0, 0, 0, 0, 0, 0, 0, 0, 0, 0, 0, 0, 0,\n",
       "       0, 0, 0, 0, 0, 0, 0, 0, 0, 0, 0, 0, 0, 0, 0, 0, 0, 0, 0, 0, 0, 0,\n",
       "       0, 0, 0, 0, 0, 1, 1, 1, 1, 1, 1, 1, 1, 1, 1, 1, 1, 1, 1, 1, 1, 1,\n",
       "       1, 1, 1, 1, 1, 1, 1, 1, 1, 1, 1, 1, 1, 1, 1, 1, 1, 1, 1, 1, 1, 1,\n",
       "       1, 1, 1, 1, 1, 1, 1, 1, 1, 1, 1, 1, 1, 1, 1, 1, 1, 1, 1, 1, 1, 1,\n",
       "       1, 1, 1, 1, 1, 1, 1, 1, 1, 1, 1, 1, 1, 1, 1, 1, 1, 1, 1, 1, 1, 1,\n",
       "       1, 1, 1, 1, 1, 1, 1, 1, 1, 1, 1, 1, 1, 1, 1, 1, 1, 1, 1, 1, 1, 1,\n",
       "       1, 1, 1, 1], dtype=int64)>"
      ]
     },
     "execution_count": 33,
     "metadata": {},
     "output_type": "execute_result"
    }
   ],
   "source": [
    "y_true = tf.argmax(true_categories,axis=1)\n",
    "y_true"
   ]
  },
  {
   "cell_type": "code",
   "execution_count": 34,
   "id": "cc11bc90-fd91-402e-973b-3de9b8db421b",
   "metadata": {},
   "outputs": [],
   "source": [
    "from sklearn.metrics import classification_report, confusion_matrix #https://scikit-learn.org/stable/modules/generated/sklearn.metrics.classification_report.html"
   ]
  },
  {
   "cell_type": "code",
   "execution_count": 35,
   "id": "d87782e5-1d28-465d-8a07-4b772715c636",
   "metadata": {},
   "outputs": [
    {
     "name": "stdout",
     "output_type": "stream",
     "text": [
      "              precision    recall  f1-score   support\n",
      "\n",
      "     Disease       0.82      0.73      0.77       137\n",
      "     Healthy       0.70      0.80      0.75       109\n",
      "\n",
      "    accuracy                           0.76       246\n",
      "   macro avg       0.76      0.76      0.76       246\n",
      "weighted avg       0.77      0.76      0.76       246\n",
      "\n"
     ]
    }
   ],
   "source": [
    "print(classification_report(y_true, predicted_categories, target_names=class_name)) #sklearn.metrics.classification_report(y_true, y_pred, *, labels=None, target_names=None, sample_weight=None, digits=2, output_dict=False, zero_division='warn')"
   ]
  },
  {
   "cell_type": "markdown",
   "id": "7e6d7eca-28ff-40bc-bee3-cf4d7ba178f6",
   "metadata": {},
   "source": [
    "### Confusion Matrix"
   ]
  },
  {
   "cell_type": "code",
   "execution_count": 36,
   "id": "74d4f8c4-7158-47a4-9575-cbef4403aca5",
   "metadata": {},
   "outputs": [
    {
     "data": {
      "text/plain": [
       "(2, 2)"
      ]
     },
     "execution_count": 36,
     "metadata": {},
     "output_type": "execute_result"
    }
   ],
   "source": [
    "cm = confusion_matrix(y_true, predicted_categories)\n",
    "cm.shape"
   ]
  },
  {
   "cell_type": "code",
   "execution_count": 37,
   "id": "0e03cc11-06ee-4a13-b13e-ab22665304aa",
   "metadata": {},
   "outputs": [
    {
     "data": {
      "image/png": "[encoded data removed]",
      "text/plain": [
       "<Figure size 640x480 with 2 Axes>"
      ]
     },
     "metadata": {},
     "output_type": "display_data"
    }
   ],
   "source": [
    "sns.heatmap(cm, annot=True) #https://seaborn.pydata.org/generated/seaborn.heatmap.html\n",
    "plt.xlabel(\"Predicted Class\")\n",
    "plt.ylabel(\"Actual Class\")\n",
    "plt.title(\"Plant Disease Prediction Confusion Matrix\")\n",
    "plt.show()"
   ]
  },
  {
   "cell_type": "code",
   "execution_count": null,
   "id": "58f15204-25cb-423e-b450-c47185ed102d",
   "metadata": {},
   "outputs": [],
   "source": []
  }
 ],
 "metadata": {
  "kernelspec": {
   "display_name": "Python 3 (ipykernel)",
   "language": "python",
   "name": "python3"
  },
  "language_info": {
   "codemirror_mode": {
    "name": "ipython",
    "version": 3
   },
   "file_extension": ".py",
   "mimetype": "text/x-python",
   "name": "python",
   "nbconvert_exporter": "python",
   "pygments_lexer": "ipython3",
   "version": "3.11.7"
  }
 },
 "nbformat": 4,
 "nbformat_minor": 5
}
