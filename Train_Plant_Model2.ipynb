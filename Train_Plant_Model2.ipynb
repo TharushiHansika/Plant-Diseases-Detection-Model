{
 "cells": [
  {
   "cell_type": "code",
   "execution_count": 6,
   "id": "3dad8146-68e8-4339-b8c7-66e7c5c47839",
   "metadata": {},
   "outputs": [
    {
     "name": "stdout",
     "output_type": "stream",
     "text": [
      "Requirement already satisfied: tensorflow in d:\\softwares\\anacondafiles\\lib\\site-packages (2.16.1)\n",
      "Requirement already satisfied: tensorflow-intel==2.16.1 in d:\\softwares\\anacondafiles\\lib\\site-packages (from tensorflow) (2.16.1)\n",
      "Requirement already satisfied: absl-py>=1.0.0 in d:\\softwares\\anacondafiles\\lib\\site-packages (from tensorflow-intel==2.16.1->tensorflow) (2.1.0)\n",
      "Requirement already satisfied: astunparse>=1.6.0 in d:\\softwares\\anacondafiles\\lib\\site-packages (from tensorflow-intel==2.16.1->tensorflow) (1.6.3)\n",
      "Requirement already satisfied: flatbuffers>=23.5.26 in d:\\softwares\\anacondafiles\\lib\\site-packages (from tensorflow-intel==2.16.1->tensorflow) (24.3.25)\n",
      "Requirement already satisfied: gast!=0.5.0,!=0.5.1,!=0.5.2,>=0.2.1 in d:\\softwares\\anacondafiles\\lib\\site-packages (from tensorflow-intel==2.16.1->tensorflow) (0.5.4)\n",
      "Requirement already satisfied: google-pasta>=0.1.1 in d:\\softwares\\anacondafiles\\lib\\site-packages (from tensorflow-intel==2.16.1->tensorflow) (0.2.0)\n",
      "Requirement already satisfied: h5py>=3.10.0 in d:\\softwares\\anacondafiles\\lib\\site-packages (from tensorflow-intel==2.16.1->tensorflow) (3.11.0)\n",
      "Requirement already satisfied: libclang>=13.0.0 in d:\\softwares\\anacondafiles\\lib\\site-packages (from tensorflow-intel==2.16.1->tensorflow) (18.1.1)\n",
      "Requirement already satisfied: ml-dtypes~=0.3.1 in d:\\softwares\\anacondafiles\\lib\\site-packages (from tensorflow-intel==2.16.1->tensorflow) (0.3.2)\n",
      "Requirement already satisfied: opt-einsum>=2.3.2 in d:\\softwares\\anacondafiles\\lib\\site-packages (from tensorflow-intel==2.16.1->tensorflow) (3.3.0)\n",
      "Requirement already satisfied: packaging in d:\\softwares\\anacondafiles\\lib\\site-packages (from tensorflow-intel==2.16.1->tensorflow) (23.1)\n",
      "Requirement already satisfied: protobuf!=4.21.0,!=4.21.1,!=4.21.2,!=4.21.3,!=4.21.4,!=4.21.5,<5.0.0dev,>=3.20.3 in d:\\softwares\\anacondafiles\\lib\\site-packages (from tensorflow-intel==2.16.1->tensorflow) (3.20.3)\n",
      "Requirement already satisfied: requests<3,>=2.21.0 in d:\\softwares\\anacondafiles\\lib\\site-packages (from tensorflow-intel==2.16.1->tensorflow) (2.31.0)\n",
      "Requirement already satisfied: setuptools in d:\\softwares\\anacondafiles\\lib\\site-packages (from tensorflow-intel==2.16.1->tensorflow) (68.2.2)\n",
      "Requirement already satisfied: six>=1.12.0 in d:\\softwares\\anacondafiles\\lib\\site-packages (from tensorflow-intel==2.16.1->tensorflow) (1.16.0)\n",
      "Requirement already satisfied: termcolor>=1.1.0 in d:\\softwares\\anacondafiles\\lib\\site-packages (from tensorflow-intel==2.16.1->tensorflow) (2.4.0)\n",
      "Requirement already satisfied: typing-extensions>=3.6.6 in d:\\softwares\\anacondafiles\\lib\\site-packages (from tensorflow-intel==2.16.1->tensorflow) (4.5.0)\n",
      "Requirement already satisfied: wrapt>=1.11.0 in d:\\softwares\\anacondafiles\\lib\\site-packages (from tensorflow-intel==2.16.1->tensorflow) (1.14.1)\n",
      "Requirement already satisfied: grpcio<2.0,>=1.24.3 in d:\\softwares\\anacondafiles\\lib\\site-packages (from tensorflow-intel==2.16.1->tensorflow) (1.62.2)\n",
      "Requirement already satisfied: tensorboard<2.17,>=2.16 in d:\\softwares\\anacondafiles\\lib\\site-packages (from tensorflow-intel==2.16.1->tensorflow) (2.16.2)\n",
      "Requirement already satisfied: keras>=3.0.0 in d:\\softwares\\anacondafiles\\lib\\site-packages (from tensorflow-intel==2.16.1->tensorflow) (3.2.1)\n",
      "Requirement already satisfied: tensorflow-io-gcs-filesystem>=0.23.1 in d:\\softwares\\anacondafiles\\lib\\site-packages (from tensorflow-intel==2.16.1->tensorflow) (0.31.0)\n",
      "Requirement already satisfied: numpy<2.0.0,>=1.23.5 in c:\\users\\tharushi hansika\\appdata\\roaming\\python\\python311\\site-packages (from tensorflow-intel==2.16.1->tensorflow) (1.26.4)\n",
      "Requirement already satisfied: wheel<1.0,>=0.23.0 in d:\\softwares\\anacondafiles\\lib\\site-packages (from astunparse>=1.6.0->tensorflow-intel==2.16.1->tensorflow) (0.41.2)\n",
      "Requirement already satisfied: rich in d:\\softwares\\anacondafiles\\lib\\site-packages (from keras>=3.0.0->tensorflow-intel==2.16.1->tensorflow) (13.3.5)\n",
      "Requirement already satisfied: namex in d:\\softwares\\anacondafiles\\lib\\site-packages (from keras>=3.0.0->tensorflow-intel==2.16.1->tensorflow) (0.0.8)\n",
      "Requirement already satisfied: optree in d:\\softwares\\anacondafiles\\lib\\site-packages (from keras>=3.0.0->tensorflow-intel==2.16.1->tensorflow) (0.11.0)\n",
      "Requirement already satisfied: charset-normalizer<4,>=2 in d:\\softwares\\anacondafiles\\lib\\site-packages (from requests<3,>=2.21.0->tensorflow-intel==2.16.1->tensorflow) (2.0.4)\n",
      "Requirement already satisfied: idna<4,>=2.5 in d:\\softwares\\anacondafiles\\lib\\site-packages (from requests<3,>=2.21.0->tensorflow-intel==2.16.1->tensorflow) (3.4)\n",
      "Requirement already satisfied: urllib3<3,>=1.21.1 in d:\\softwares\\anacondafiles\\lib\\site-packages (from requests<3,>=2.21.0->tensorflow-intel==2.16.1->tensorflow) (2.0.7)\n",
      "Requirement already satisfied: certifi>=2017.4.17 in d:\\softwares\\anacondafiles\\lib\\site-packages (from requests<3,>=2.21.0->tensorflow-intel==2.16.1->tensorflow) (2024.2.2)\n",
      "Requirement already satisfied: markdown>=2.6.8 in d:\\softwares\\anacondafiles\\lib\\site-packages (from tensorboard<2.17,>=2.16->tensorflow-intel==2.16.1->tensorflow) (3.4.1)\n",
      "Requirement already satisfied: tensorboard-data-server<0.8.0,>=0.7.0 in d:\\softwares\\anacondafiles\\lib\\site-packages (from tensorboard<2.17,>=2.16->tensorflow-intel==2.16.1->tensorflow) (0.7.2)\n",
      "Requirement already satisfied: werkzeug>=1.0.1 in d:\\softwares\\anacondafiles\\lib\\site-packages (from tensorboard<2.17,>=2.16->tensorflow-intel==2.16.1->tensorflow) (2.2.3)\n",
      "Requirement already satisfied: MarkupSafe>=2.1.1 in d:\\softwares\\anacondafiles\\lib\\site-packages (from werkzeug>=1.0.1->tensorboard<2.17,>=2.16->tensorflow-intel==2.16.1->tensorflow) (2.1.3)\n",
      "Requirement already satisfied: markdown-it-py<3.0.0,>=2.2.0 in d:\\softwares\\anacondafiles\\lib\\site-packages (from rich->keras>=3.0.0->tensorflow-intel==2.16.1->tensorflow) (2.2.0)\n",
      "Requirement already satisfied: pygments<3.0.0,>=2.13.0 in d:\\softwares\\anacondafiles\\lib\\site-packages (from rich->keras>=3.0.0->tensorflow-intel==2.16.1->tensorflow) (2.15.1)\n",
      "Requirement already satisfied: mdurl~=0.1 in d:\\softwares\\anacondafiles\\lib\\site-packages (from markdown-it-py<3.0.0,>=2.2.0->rich->keras>=3.0.0->tensorflow-intel==2.16.1->tensorflow) (0.1.0)\n"
     ]
    }
   ],
   "source": [
    "!pip install tensorflow"
   ]
  },
  {
   "cell_type": "markdown",
   "id": "633a9b1c-744f-40d0-adb6-63dae1efad48",
   "metadata": {},
   "source": [
    "## Importing Libraries"
   ]
  },
  {
   "cell_type": "code",
   "execution_count": 7,
   "id": "bd21f03b-40a2-4288-8fbf-920157040d2f",
   "metadata": {},
   "outputs": [],
   "source": [
    "import tensorflow as tf\n",
    "import matplotlib.pyplot as plt #For visualization\n",
    "import pandas as pd\n",
    "import seaborn as sns"
   ]
  },
  {
   "cell_type": "markdown",
   "id": "c0dcc936-24a8-48fb-8274-5a2f47e36faa",
   "metadata": {},
   "source": [
    "## Data Pre-Processing"
   ]
  },
  {
   "cell_type": "markdown",
   "id": "1a7280b1-e543-4dca-9338-90f095184397",
   "metadata": {},
   "source": [
    "### Training Image Pre-Processing"
   ]
  },
  {
   "cell_type": "code",
   "execution_count": 8,
   "id": "d575fda4-7559-4988-80fd-aeecc57ca572",
   "metadata": {},
   "outputs": [
    {
     "name": "stdout",
     "output_type": "stream",
     "text": [
      "Found 458 files belonging to 2 classes.\n"
     ]
    }
   ],
   "source": [
    "training_set = tf.keras.utils.image_dataset_from_directory( #Keras image data loding (https://keras.io/api/data_loading/image/)\n",
    "    'train', #Folder name (where the data is located)\n",
    "    labels=\"inferred\", #Labels are generated from the directory structure\n",
    "    label_mode=\"categorical\", #Labels are encoded as a categorical vector\n",
    "    class_names=None,\n",
    "    color_mode=\"rgb\",\n",
    "    batch_size=32, #If you want to speed up the training process then change this in to 64 or 128\n",
    "    image_size=(128, 128),\n",
    "    shuffle=True, #To reduce the biasness of the model you can shuffle it\n",
    "    seed=None,\n",
    "    validation_split=None,\n",
    "    subset=None,\n",
    "    interpolation=\"bilinear\",\n",
    "    follow_links=False,\n",
    "    crop_to_aspect_ratio=False,\n",
    "    pad_to_aspect_ratio=False,\n",
    "    data_format=None,\n",
    "    verbose=True,\n",
    ")"
   ]
  },
  {
   "cell_type": "code",
   "execution_count": 9,
   "id": "1c8cc3b6-b4a7-41ea-82f3-3b5f53f2f058",
   "metadata": {},
   "outputs": [
    {
     "data": {
      "text/plain": [
       "<_PrefetchDataset element_spec=(TensorSpec(shape=(None, 128, 128, 3), dtype=tf.float32, name=None), TensorSpec(shape=(None, 2), dtype=tf.float32, name=None))>"
      ]
     },
     "execution_count": 9,
     "metadata": {},
     "output_type": "execute_result"
    }
   ],
   "source": [
    "training_set"
   ]
  },
  {
   "cell_type": "markdown",
   "id": "0790353c-5dc3-4c8d-8d55-d840eb51e586",
   "metadata": {},
   "source": [
    "### Validation Image Pre-Processing"
   ]
  },
  {
   "cell_type": "code",
   "execution_count": 10,
   "id": "2c861aed-6725-4bef-b5b0-121b1d028f3f",
   "metadata": {},
   "outputs": [
    {
     "name": "stdout",
     "output_type": "stream",
     "text": [
      "Found 246 files belonging to 2 classes.\n"
     ]
    }
   ],
   "source": [
    "validation_set = tf.keras.utils.image_dataset_from_directory( #Keras image data loding (https://keras.io/api/data_loading/image/)\n",
    "    'valid', #Folder name (where the data is located)\n",
    "    labels=\"inferred\", #Labels are generated from the directory structure\n",
    "    label_mode=\"categorical\", #Labels are encoded as a categorical vector\n",
    "    class_names=None,\n",
    "    color_mode=\"rgb\",\n",
    "    batch_size=32, #If you want to speed up the training process then change this in to 64 or 128\n",
    "    image_size=(128, 128),\n",
    "    shuffle=True, #To reduce the biasness of the model you can shuffle it\n",
    "    seed=None,\n",
    "    validation_split=None,\n",
    "    subset=None,\n",
    "    interpolation=\"bilinear\",\n",
    "    follow_links=False,\n",
    "    crop_to_aspect_ratio=False,\n",
    "    pad_to_aspect_ratio=False,\n",
    "    data_format=None,\n",
    "    verbose=True,\n",
    ")"
   ]
  },
  {
   "cell_type": "code",
   "execution_count": 11,
   "id": "fbd7c741-0fb2-41f6-8d83-97e97d3352b9",
   "metadata": {},
   "outputs": [
    {
     "data": {
      "text/plain": [
       "<_PrefetchDataset element_spec=(TensorSpec(shape=(None, 128, 128, 3), dtype=tf.float32, name=None), TensorSpec(shape=(None, 2), dtype=tf.float32, name=None))>"
      ]
     },
     "execution_count": 11,
     "metadata": {},
     "output_type": "execute_result"
    }
   ],
   "source": [
    "validation_set"
   ]
  },
  {
   "cell_type": "markdown",
   "id": "d933aba4-c6e0-451f-bc2a-4ff7e9aebc75",
   "metadata": {},
   "source": [
    "### Test Image Pre-Precessing"
   ]
  },
  {
   "cell_type": "code",
   "execution_count": 12,
   "id": "737be6a9-4b9d-4ddf-9f54-e0b8bc2bc256",
   "metadata": {},
   "outputs": [
    {
     "name": "stdout",
     "output_type": "stream",
     "text": [
      "Found 79 files belonging to 1 classes.\n"
     ]
    }
   ],
   "source": [
    "test_set = tf.keras.utils.image_dataset_from_directory( #Keras image data loding (https://keras.io/api/data_loading/image/)\n",
    "    'test', #Folder name (where the data is located)\n",
    "    labels=\"inferred\", #Labels are generated from the directory structure\n",
    "    label_mode=\"categorical\", #Labels are encoded as a categorical vector\n",
    "    class_names=None,\n",
    "    color_mode=\"rgb\",\n",
    "    batch_size=32, #If you want to speed up the training process then change this in to 64 or 128\n",
    "    image_size=(128, 128),\n",
    "    shuffle=True, #To reduce the biasness of the model you can shuffle it\n",
    "    seed=None,\n",
    "    validation_split=None,\n",
    "    subset=None,\n",
    "    interpolation=\"bilinear\",\n",
    "    follow_links=False,\n",
    "    crop_to_aspect_ratio=False,\n",
    "    pad_to_aspect_ratio=False,\n",
    "    data_format=None,\n",
    "    verbose=True,\n",
    ")"
   ]
  },
  {
   "cell_type": "code",
   "execution_count": 13,
   "id": "6031b5cc-f89f-4f76-8e05-1b4822dde6c7",
   "metadata": {},
   "outputs": [
    {
     "data": {
      "text/plain": [
       "<_PrefetchDataset element_spec=(TensorSpec(shape=(None, 128, 128, 3), dtype=tf.float32, name=None), TensorSpec(shape=(None, 1), dtype=tf.float32, name=None))>"
      ]
     },
     "execution_count": 13,
     "metadata": {},
     "output_type": "execute_result"
    }
   ],
   "source": [
    "test_set #128,128=Width and hieght, 3=RGB format of the array, 2=Examples in one batch"
   ]
  },
  {
   "cell_type": "markdown",
   "id": "0aa040d9-b13e-4753-856c-42932d12056a",
   "metadata": {},
   "source": [
    "## Building Model"
   ]
  },
  {
   "cell_type": "markdown",
   "id": "d53ae4d8-2f22-487d-9111-f0b6381358a6",
   "metadata": {},
   "source": [
    "### Importing Libraries"
   ]
  },
  {
   "cell_type": "code",
   "execution_count": 14,
   "id": "8a9d44eb-91b5-48d9-89fb-131915ab612a",
   "metadata": {},
   "outputs": [],
   "source": [
    "from tensorflow.keras.layers import Input, Conv2D, MaxPooling2D, Activation, Dense, Flatten #For convolution operations\n",
    "from tensorflow.keras.models import Model #We use Functional API model so, this is it object\n",
    "from tensorflow.keras.optimizers import Adam\n",
    "from tensorflow.keras.regularizers import l2"
   ]
  },
  {
   "cell_type": "markdown",
   "id": "a45b4d55-70dc-4444-b95d-a9e485ed4f02",
   "metadata": {},
   "source": [
    "## Input Layer"
   ]
  },
  {
   "cell_type": "code",
   "execution_count": 15,
   "id": "753a72dd-7296-4512-ab01-d7ecda921254",
   "metadata": {},
   "outputs": [],
   "source": [
    "inputs = Input(shape=(128, 128, 3))"
   ]
  },
  {
   "cell_type": "markdown",
   "id": "0ff7e49e-9408-4682-913e-a723eb8d6de9",
   "metadata": {},
   "source": [
    "### Building Convolution Layer"
   ]
  },
  {
   "cell_type": "code",
   "execution_count": 16,
   "id": "497ccccb-4d83-480a-b506-a8e66519c4a7",
   "metadata": {},
   "outputs": [],
   "source": [
    "x = Conv2D(32, (5, 5), padding='same', kernel_regularizer=l2(0.001), activation='relu')(inputs)\n",
    "x = MaxPooling2D((2, 2))(x)"
   ]
  },
  {
   "cell_type": "code",
   "execution_count": 17,
   "id": "05d4f419-16f1-463c-8167-adc7f9d11a77",
   "metadata": {},
   "outputs": [],
   "source": [
    "x = Conv2D(64, (3, 3), padding='same', kernel_regularizer=l2(0.001), activation='relu')(x)\n",
    "x = MaxPooling2D((2, 2))(x)"
   ]
  },
  {
   "cell_type": "code",
   "execution_count": 18,
   "id": "c5c1a0e1-974c-4b79-84b1-8e96e885b0db",
   "metadata": {},
   "outputs": [],
   "source": [
    "x = Conv2D(64, (5, 5), padding='valid', kernel_regularizer=l2(0.001), activation='elu')(x)\n",
    "x = Conv2D(64, (3, 3), padding='valid', kernel_regularizer=l2(0.001), activation='elu')(x)\n",
    "x = MaxPooling2D((3, 3), strides=(2, 2))(x)"
   ]
  },
  {
   "cell_type": "code",
   "execution_count": 19,
   "id": "9ef1e403-6f61-42e5-91f8-dcf4411595bc",
   "metadata": {},
   "outputs": [],
   "source": [
    "x = Conv2D(128, (3, 3), padding='valid', kernel_regularizer=l2(0.001), activation='relu')(x)\n",
    "x = MaxPooling2D((2, 2))(x)"
   ]
  },
  {
   "cell_type": "markdown",
   "id": "bd912448-a2a6-4d40-8f60-30797b664b91",
   "metadata": {},
   "source": [
    "### Adding Flatten Layer"
   ]
  },
  {
   "cell_type": "code",
   "execution_count": 20,
   "id": "477542e6-c4b6-4fdf-b47a-ad426215f5e6",
   "metadata": {},
   "outputs": [],
   "source": [
    "x = Flatten()(x)"
   ]
  },
  {
   "cell_type": "markdown",
   "id": "bf5f75df-0c8c-41ef-b982-b531014d3ee8",
   "metadata": {},
   "source": [
    "### Adding Dense Layer"
   ]
  },
  {
   "cell_type": "code",
   "execution_count": 21,
   "id": "5c16cc4b-8d6f-4607-8cce-4f94b78e8b25",
   "metadata": {},
   "outputs": [],
   "source": [
    "x = Dense(512, activation='relu', kernel_regularizer=l2(0.001))(x) #Units=number of neurons in the dense layer (Hidden laye)"
   ]
  },
  {
   "cell_type": "markdown",
   "id": "3e2c4467-7bc2-4fd0-86e0-0b2184c5bc05",
   "metadata": {},
   "source": [
    "### Adding Output Layer"
   ]
  },
  {
   "cell_type": "code",
   "execution_count": 22,
   "id": "33332b35-1b2f-4bd8-8ef6-62381612af6f",
   "metadata": {},
   "outputs": [],
   "source": [
    "outputs = Dense(2, activation='softmax')(x) #Using softmax we can get result as probability"
   ]
  },
  {
   "cell_type": "markdown",
   "id": "d5aefd6a-e002-4b7d-a329-6dc77b8c8bbf",
   "metadata": {},
   "source": [
    "### Create Model"
   ]
  },
  {
   "cell_type": "code",
   "execution_count": 23,
   "id": "68116ae6-59e5-4ce7-9b17-a74d06206c42",
   "metadata": {},
   "outputs": [],
   "source": [
    "model = Model(inputs=inputs, outputs=outputs)"
   ]
  },
  {
   "cell_type": "markdown",
   "id": "4ab8ed25-fbc2-4c99-81a8-116d202b5cfd",
   "metadata": {},
   "source": [
    "## Compiling Model"
   ]
  },
  {
   "cell_type": "code",
   "execution_count": 24,
   "id": "caa0a982-15a0-46e4-ba13-959609a24b6c",
   "metadata": {},
   "outputs": [],
   "source": [
    "optimizer = Adam(learning_rate=0.0005)\n",
    "model.compile(optimizer=optimizer, loss='categorical_crossentropy', metrics=['accuracy'])"
   ]
  },
  {
   "cell_type": "code",
   "execution_count": 25,
   "id": "2d4a6614-b05e-4596-b224-9c8f3afbf380",
   "metadata": {},
   "outputs": [
    {
     "data": {
      "text/html": [
       "<pre style=\"white-space:pre;overflow-x:auto;line-height:normal;font-family:Menlo,'DejaVu Sans Mono',consolas,'Courier New',monospace\"><span style=\"font-weight: bold\">Model: \"functional_1\"</span>\n",
       "</pre>\n"
      ],
      "text/plain": [
       "\u001b[1mModel: \"functional_1\"\u001b[0m\n"
      ]
     },
     "metadata": {},
     "output_type": "display_data"
    },
    {
     "data": {
      "text/html": [
       "<pre style=\"white-space:pre;overflow-x:auto;line-height:normal;font-family:Menlo,'DejaVu Sans Mono',consolas,'Courier New',monospace\">┏━━━━━━━━━━━━━━━━━━━━━━━━━━━━━━━━━┳━━━━━━━━━━━━━━━━━━━━━━━━┳━━━━━━━━━━━━━━━┓\n",
       "┃<span style=\"font-weight: bold\"> Layer (type)                    </span>┃<span style=\"font-weight: bold\"> Output Shape           </span>┃<span style=\"font-weight: bold\">       Param # </span>┃\n",
       "┡━━━━━━━━━━━━━━━━━━━━━━━━━━━━━━━━━╇━━━━━━━━━━━━━━━━━━━━━━━━╇━━━━━━━━━━━━━━━┩\n",
       "│ input_layer (<span style=\"color: #0087ff; text-decoration-color: #0087ff\">InputLayer</span>)        │ (<span style=\"color: #00d7ff; text-decoration-color: #00d7ff\">None</span>, <span style=\"color: #00af00; text-decoration-color: #00af00\">128</span>, <span style=\"color: #00af00; text-decoration-color: #00af00\">128</span>, <span style=\"color: #00af00; text-decoration-color: #00af00\">3</span>)    │             <span style=\"color: #00af00; text-decoration-color: #00af00\">0</span> │\n",
       "├─────────────────────────────────┼────────────────────────┼───────────────┤\n",
       "│ conv2d (<span style=\"color: #0087ff; text-decoration-color: #0087ff\">Conv2D</span>)                 │ (<span style=\"color: #00d7ff; text-decoration-color: #00d7ff\">None</span>, <span style=\"color: #00af00; text-decoration-color: #00af00\">128</span>, <span style=\"color: #00af00; text-decoration-color: #00af00\">128</span>, <span style=\"color: #00af00; text-decoration-color: #00af00\">32</span>)   │         <span style=\"color: #00af00; text-decoration-color: #00af00\">2,432</span> │\n",
       "├─────────────────────────────────┼────────────────────────┼───────────────┤\n",
       "│ max_pooling2d (<span style=\"color: #0087ff; text-decoration-color: #0087ff\">MaxPooling2D</span>)    │ (<span style=\"color: #00d7ff; text-decoration-color: #00d7ff\">None</span>, <span style=\"color: #00af00; text-decoration-color: #00af00\">64</span>, <span style=\"color: #00af00; text-decoration-color: #00af00\">64</span>, <span style=\"color: #00af00; text-decoration-color: #00af00\">32</span>)     │             <span style=\"color: #00af00; text-decoration-color: #00af00\">0</span> │\n",
       "├─────────────────────────────────┼────────────────────────┼───────────────┤\n",
       "│ conv2d_1 (<span style=\"color: #0087ff; text-decoration-color: #0087ff\">Conv2D</span>)               │ (<span style=\"color: #00d7ff; text-decoration-color: #00d7ff\">None</span>, <span style=\"color: #00af00; text-decoration-color: #00af00\">64</span>, <span style=\"color: #00af00; text-decoration-color: #00af00\">64</span>, <span style=\"color: #00af00; text-decoration-color: #00af00\">64</span>)     │        <span style=\"color: #00af00; text-decoration-color: #00af00\">18,496</span> │\n",
       "├─────────────────────────────────┼────────────────────────┼───────────────┤\n",
       "│ max_pooling2d_1 (<span style=\"color: #0087ff; text-decoration-color: #0087ff\">MaxPooling2D</span>)  │ (<span style=\"color: #00d7ff; text-decoration-color: #00d7ff\">None</span>, <span style=\"color: #00af00; text-decoration-color: #00af00\">32</span>, <span style=\"color: #00af00; text-decoration-color: #00af00\">32</span>, <span style=\"color: #00af00; text-decoration-color: #00af00\">64</span>)     │             <span style=\"color: #00af00; text-decoration-color: #00af00\">0</span> │\n",
       "├─────────────────────────────────┼────────────────────────┼───────────────┤\n",
       "│ conv2d_2 (<span style=\"color: #0087ff; text-decoration-color: #0087ff\">Conv2D</span>)               │ (<span style=\"color: #00d7ff; text-decoration-color: #00d7ff\">None</span>, <span style=\"color: #00af00; text-decoration-color: #00af00\">28</span>, <span style=\"color: #00af00; text-decoration-color: #00af00\">28</span>, <span style=\"color: #00af00; text-decoration-color: #00af00\">64</span>)     │       <span style=\"color: #00af00; text-decoration-color: #00af00\">102,464</span> │\n",
       "├─────────────────────────────────┼────────────────────────┼───────────────┤\n",
       "│ conv2d_3 (<span style=\"color: #0087ff; text-decoration-color: #0087ff\">Conv2D</span>)               │ (<span style=\"color: #00d7ff; text-decoration-color: #00d7ff\">None</span>, <span style=\"color: #00af00; text-decoration-color: #00af00\">26</span>, <span style=\"color: #00af00; text-decoration-color: #00af00\">26</span>, <span style=\"color: #00af00; text-decoration-color: #00af00\">64</span>)     │        <span style=\"color: #00af00; text-decoration-color: #00af00\">36,928</span> │\n",
       "├─────────────────────────────────┼────────────────────────┼───────────────┤\n",
       "│ max_pooling2d_2 (<span style=\"color: #0087ff; text-decoration-color: #0087ff\">MaxPooling2D</span>)  │ (<span style=\"color: #00d7ff; text-decoration-color: #00d7ff\">None</span>, <span style=\"color: #00af00; text-decoration-color: #00af00\">12</span>, <span style=\"color: #00af00; text-decoration-color: #00af00\">12</span>, <span style=\"color: #00af00; text-decoration-color: #00af00\">64</span>)     │             <span style=\"color: #00af00; text-decoration-color: #00af00\">0</span> │\n",
       "├─────────────────────────────────┼────────────────────────┼───────────────┤\n",
       "│ conv2d_4 (<span style=\"color: #0087ff; text-decoration-color: #0087ff\">Conv2D</span>)               │ (<span style=\"color: #00d7ff; text-decoration-color: #00d7ff\">None</span>, <span style=\"color: #00af00; text-decoration-color: #00af00\">10</span>, <span style=\"color: #00af00; text-decoration-color: #00af00\">10</span>, <span style=\"color: #00af00; text-decoration-color: #00af00\">128</span>)    │        <span style=\"color: #00af00; text-decoration-color: #00af00\">73,856</span> │\n",
       "├─────────────────────────────────┼────────────────────────┼───────────────┤\n",
       "│ max_pooling2d_3 (<span style=\"color: #0087ff; text-decoration-color: #0087ff\">MaxPooling2D</span>)  │ (<span style=\"color: #00d7ff; text-decoration-color: #00d7ff\">None</span>, <span style=\"color: #00af00; text-decoration-color: #00af00\">5</span>, <span style=\"color: #00af00; text-decoration-color: #00af00\">5</span>, <span style=\"color: #00af00; text-decoration-color: #00af00\">128</span>)      │             <span style=\"color: #00af00; text-decoration-color: #00af00\">0</span> │\n",
       "├─────────────────────────────────┼────────────────────────┼───────────────┤\n",
       "│ flatten (<span style=\"color: #0087ff; text-decoration-color: #0087ff\">Flatten</span>)               │ (<span style=\"color: #00d7ff; text-decoration-color: #00d7ff\">None</span>, <span style=\"color: #00af00; text-decoration-color: #00af00\">3200</span>)           │             <span style=\"color: #00af00; text-decoration-color: #00af00\">0</span> │\n",
       "├─────────────────────────────────┼────────────────────────┼───────────────┤\n",
       "│ dense (<span style=\"color: #0087ff; text-decoration-color: #0087ff\">Dense</span>)                   │ (<span style=\"color: #00d7ff; text-decoration-color: #00d7ff\">None</span>, <span style=\"color: #00af00; text-decoration-color: #00af00\">512</span>)            │     <span style=\"color: #00af00; text-decoration-color: #00af00\">1,638,912</span> │\n",
       "├─────────────────────────────────┼────────────────────────┼───────────────┤\n",
       "│ dense_1 (<span style=\"color: #0087ff; text-decoration-color: #0087ff\">Dense</span>)                 │ (<span style=\"color: #00d7ff; text-decoration-color: #00d7ff\">None</span>, <span style=\"color: #00af00; text-decoration-color: #00af00\">2</span>)              │         <span style=\"color: #00af00; text-decoration-color: #00af00\">1,026</span> │\n",
       "└─────────────────────────────────┴────────────────────────┴───────────────┘\n",
       "</pre>\n"
      ],
      "text/plain": [
       "┏━━━━━━━━━━━━━━━━━━━━━━━━━━━━━━━━━┳━━━━━━━━━━━━━━━━━━━━━━━━┳━━━━━━━━━━━━━━━┓\n",
       "┃\u001b[1m \u001b[0m\u001b[1mLayer (type)                   \u001b[0m\u001b[1m \u001b[0m┃\u001b[1m \u001b[0m\u001b[1mOutput Shape          \u001b[0m\u001b[1m \u001b[0m┃\u001b[1m \u001b[0m\u001b[1m      Param #\u001b[0m\u001b[1m \u001b[0m┃\n",
       "┡━━━━━━━━━━━━━━━━━━━━━━━━━━━━━━━━━╇━━━━━━━━━━━━━━━━━━━━━━━━╇━━━━━━━━━━━━━━━┩\n",
       "│ input_layer (\u001b[38;5;33mInputLayer\u001b[0m)        │ (\u001b[38;5;45mNone\u001b[0m, \u001b[38;5;34m128\u001b[0m, \u001b[38;5;34m128\u001b[0m, \u001b[38;5;34m3\u001b[0m)    │             \u001b[38;5;34m0\u001b[0m │\n",
       "├─────────────────────────────────┼────────────────────────┼───────────────┤\n",
       "│ conv2d (\u001b[38;5;33mConv2D\u001b[0m)                 │ (\u001b[38;5;45mNone\u001b[0m, \u001b[38;5;34m128\u001b[0m, \u001b[38;5;34m128\u001b[0m, \u001b[38;5;34m32\u001b[0m)   │         \u001b[38;5;34m2,432\u001b[0m │\n",
       "├─────────────────────────────────┼────────────────────────┼───────────────┤\n",
       "│ max_pooling2d (\u001b[38;5;33mMaxPooling2D\u001b[0m)    │ (\u001b[38;5;45mNone\u001b[0m, \u001b[38;5;34m64\u001b[0m, \u001b[38;5;34m64\u001b[0m, \u001b[38;5;34m32\u001b[0m)     │             \u001b[38;5;34m0\u001b[0m │\n",
       "├─────────────────────────────────┼────────────────────────┼───────────────┤\n",
       "│ conv2d_1 (\u001b[38;5;33mConv2D\u001b[0m)               │ (\u001b[38;5;45mNone\u001b[0m, \u001b[38;5;34m64\u001b[0m, \u001b[38;5;34m64\u001b[0m, \u001b[38;5;34m64\u001b[0m)     │        \u001b[38;5;34m18,496\u001b[0m │\n",
       "├─────────────────────────────────┼────────────────────────┼───────────────┤\n",
       "│ max_pooling2d_1 (\u001b[38;5;33mMaxPooling2D\u001b[0m)  │ (\u001b[38;5;45mNone\u001b[0m, \u001b[38;5;34m32\u001b[0m, \u001b[38;5;34m32\u001b[0m, \u001b[38;5;34m64\u001b[0m)     │             \u001b[38;5;34m0\u001b[0m │\n",
       "├─────────────────────────────────┼────────────────────────┼───────────────┤\n",
       "│ conv2d_2 (\u001b[38;5;33mConv2D\u001b[0m)               │ (\u001b[38;5;45mNone\u001b[0m, \u001b[38;5;34m28\u001b[0m, \u001b[38;5;34m28\u001b[0m, \u001b[38;5;34m64\u001b[0m)     │       \u001b[38;5;34m102,464\u001b[0m │\n",
       "├─────────────────────────────────┼────────────────────────┼───────────────┤\n",
       "│ conv2d_3 (\u001b[38;5;33mConv2D\u001b[0m)               │ (\u001b[38;5;45mNone\u001b[0m, \u001b[38;5;34m26\u001b[0m, \u001b[38;5;34m26\u001b[0m, \u001b[38;5;34m64\u001b[0m)     │        \u001b[38;5;34m36,928\u001b[0m │\n",
       "├─────────────────────────────────┼────────────────────────┼───────────────┤\n",
       "│ max_pooling2d_2 (\u001b[38;5;33mMaxPooling2D\u001b[0m)  │ (\u001b[38;5;45mNone\u001b[0m, \u001b[38;5;34m12\u001b[0m, \u001b[38;5;34m12\u001b[0m, \u001b[38;5;34m64\u001b[0m)     │             \u001b[38;5;34m0\u001b[0m │\n",
       "├─────────────────────────────────┼────────────────────────┼───────────────┤\n",
       "│ conv2d_4 (\u001b[38;5;33mConv2D\u001b[0m)               │ (\u001b[38;5;45mNone\u001b[0m, \u001b[38;5;34m10\u001b[0m, \u001b[38;5;34m10\u001b[0m, \u001b[38;5;34m128\u001b[0m)    │        \u001b[38;5;34m73,856\u001b[0m │\n",
       "├─────────────────────────────────┼────────────────────────┼───────────────┤\n",
       "│ max_pooling2d_3 (\u001b[38;5;33mMaxPooling2D\u001b[0m)  │ (\u001b[38;5;45mNone\u001b[0m, \u001b[38;5;34m5\u001b[0m, \u001b[38;5;34m5\u001b[0m, \u001b[38;5;34m128\u001b[0m)      │             \u001b[38;5;34m0\u001b[0m │\n",
       "├─────────────────────────────────┼────────────────────────┼───────────────┤\n",
       "│ flatten (\u001b[38;5;33mFlatten\u001b[0m)               │ (\u001b[38;5;45mNone\u001b[0m, \u001b[38;5;34m3200\u001b[0m)           │             \u001b[38;5;34m0\u001b[0m │\n",
       "├─────────────────────────────────┼────────────────────────┼───────────────┤\n",
       "│ dense (\u001b[38;5;33mDense\u001b[0m)                   │ (\u001b[38;5;45mNone\u001b[0m, \u001b[38;5;34m512\u001b[0m)            │     \u001b[38;5;34m1,638,912\u001b[0m │\n",
       "├─────────────────────────────────┼────────────────────────┼───────────────┤\n",
       "│ dense_1 (\u001b[38;5;33mDense\u001b[0m)                 │ (\u001b[38;5;45mNone\u001b[0m, \u001b[38;5;34m2\u001b[0m)              │         \u001b[38;5;34m1,026\u001b[0m │\n",
       "└─────────────────────────────────┴────────────────────────┴───────────────┘\n"
      ]
     },
     "metadata": {},
     "output_type": "display_data"
    },
    {
     "data": {
      "text/html": [
       "<pre style=\"white-space:pre;overflow-x:auto;line-height:normal;font-family:Menlo,'DejaVu Sans Mono',consolas,'Courier New',monospace\"><span style=\"font-weight: bold\"> Total params: </span><span style=\"color: #00af00; text-decoration-color: #00af00\">1,874,114</span> (7.15 MB)\n",
       "</pre>\n"
      ],
      "text/plain": [
       "\u001b[1m Total params: \u001b[0m\u001b[38;5;34m1,874,114\u001b[0m (7.15 MB)\n"
      ]
     },
     "metadata": {},
     "output_type": "display_data"
    },
    {
     "data": {
      "text/html": [
       "<pre style=\"white-space:pre;overflow-x:auto;line-height:normal;font-family:Menlo,'DejaVu Sans Mono',consolas,'Courier New',monospace\"><span style=\"font-weight: bold\"> Trainable params: </span><span style=\"color: #00af00; text-decoration-color: #00af00\">1,874,114</span> (7.15 MB)\n",
       "</pre>\n"
      ],
      "text/plain": [
       "\u001b[1m Trainable params: \u001b[0m\u001b[38;5;34m1,874,114\u001b[0m (7.15 MB)\n"
      ]
     },
     "metadata": {},
     "output_type": "display_data"
    },
    {
     "data": {
      "text/html": [
       "<pre style=\"white-space:pre;overflow-x:auto;line-height:normal;font-family:Menlo,'DejaVu Sans Mono',consolas,'Courier New',monospace\"><span style=\"font-weight: bold\"> Non-trainable params: </span><span style=\"color: #00af00; text-decoration-color: #00af00\">0</span> (0.00 B)\n",
       "</pre>\n"
      ],
      "text/plain": [
       "\u001b[1m Non-trainable params: \u001b[0m\u001b[38;5;34m0\u001b[0m (0.00 B)\n"
      ]
     },
     "metadata": {},
     "output_type": "display_data"
    }
   ],
   "source": [
    "model.summary()"
   ]
  },
  {
   "cell_type": "markdown",
   "id": "161aa9d5-9b7c-45f7-8776-5c5552e8c470",
   "metadata": {},
   "source": [
    "## Training Model"
   ]
  },
  {
   "cell_type": "code",
   "execution_count": 26,
   "id": "94e98455-0acf-4b59-bd77-13852d951b20",
   "metadata": {},
   "outputs": [
    {
     "name": "stdout",
     "output_type": "stream",
     "text": [
      "Epoch 1/10\n",
      "\u001b[1m15/15\u001b[0m \u001b[32m━━━━━━━━━━━━━━━━━━━━\u001b[0m\u001b[37m\u001b[0m \u001b[1m8s\u001b[0m 277ms/step - accuracy: 0.5513 - loss: 19.0419 - val_accuracy: 0.5569 - val_loss: 2.6197\n",
      "Epoch 2/10\n",
      "\u001b[1m15/15\u001b[0m \u001b[32m━━━━━━━━━━━━━━━━━━━━\u001b[0m\u001b[37m\u001b[0m \u001b[1m3s\u001b[0m 201ms/step - accuracy: 0.7309 - loss: 1.6053 - val_accuracy: 0.5610 - val_loss: 1.6250\n",
      "Epoch 3/10\n",
      "\u001b[1m15/15\u001b[0m \u001b[32m━━━━━━━━━━━━━━━━━━━━\u001b[0m\u001b[37m\u001b[0m \u001b[1m3s\u001b[0m 203ms/step - accuracy: 0.7412 - loss: 1.3771 - val_accuracy: 0.7195 - val_loss: 1.4280\n",
      "Epoch 4/10\n",
      "\u001b[1m15/15\u001b[0m \u001b[32m━━━━━━━━━━━━━━━━━━━━\u001b[0m\u001b[37m\u001b[0m \u001b[1m3s\u001b[0m 203ms/step - accuracy: 0.8050 - loss: 1.2913 - val_accuracy: 0.5813 - val_loss: 1.5252\n",
      "Epoch 5/10\n",
      "\u001b[1m15/15\u001b[0m \u001b[32m━━━━━━━━━━━━━━━━━━━━\u001b[0m\u001b[37m\u001b[0m \u001b[1m3s\u001b[0m 206ms/step - accuracy: 0.7759 - loss: 1.2608 - val_accuracy: 0.6911 - val_loss: 1.3565\n",
      "Epoch 6/10\n",
      "\u001b[1m15/15\u001b[0m \u001b[32m━━━━━━━━━━━━━━━━━━━━\u001b[0m\u001b[37m\u001b[0m \u001b[1m4s\u001b[0m 263ms/step - accuracy: 0.8253 - loss: 1.1880 - val_accuracy: 0.6463 - val_loss: 1.5022\n",
      "Epoch 7/10\n",
      "\u001b[1m15/15\u001b[0m \u001b[32m━━━━━━━━━━━━━━━━━━━━\u001b[0m\u001b[37m\u001b[0m \u001b[1m4s\u001b[0m 278ms/step - accuracy: 0.8689 - loss: 1.1102 - val_accuracy: 0.6829 - val_loss: 1.3846\n",
      "Epoch 8/10\n",
      "\u001b[1m15/15\u001b[0m \u001b[32m━━━━━━━━━━━━━━━━━━━━\u001b[0m\u001b[37m\u001b[0m \u001b[1m4s\u001b[0m 275ms/step - accuracy: 0.8586 - loss: 1.0926 - val_accuracy: 0.6992 - val_loss: 1.3671\n",
      "Epoch 9/10\n",
      "\u001b[1m15/15\u001b[0m \u001b[32m━━━━━━━━━━━━━━━━━━━━\u001b[0m\u001b[37m\u001b[0m \u001b[1m4s\u001b[0m 287ms/step - accuracy: 0.8927 - loss: 1.0323 - val_accuracy: 0.7114 - val_loss: 1.4555\n",
      "Epoch 10/10\n",
      "\u001b[1m15/15\u001b[0m \u001b[32m━━━━━━━━━━━━━━━━━━━━\u001b[0m\u001b[37m\u001b[0m \u001b[1m5s\u001b[0m 306ms/step - accuracy: 0.9443 - loss: 0.9559 - val_accuracy: 0.7195 - val_loss: 1.4730\n"
     ]
    }
   ],
   "source": [
    "training_history = model.fit(x=training_set, validation_data=validation_set, epochs=10) #By equal whole thing to training_history, it can easy to do visualization in future\n",
    "#When runing this if loss is incraesed instead of decreasing its because of overshooting loss function\n",
    "#This can happen because of high learning rate. Default 0.001 turn into o.ooo1 (https://www.tensorflow.org/api_docs/python/tf/keras/optimizers/Adam)\n",
    "#There may be a chance of underfitiing. So increase number of neurons or can add more convolution layers."
   ]
  },
  {
   "cell_type": "markdown",
   "id": "71e17185-411d-466b-b3af-f792b27f2cc4",
   "metadata": {},
   "source": [
    "## Model Evaluation"
   ]
  },
  {
   "cell_type": "markdown",
   "id": "a36ebd43-bd75-4189-aa6c-b7dd56691fc3",
   "metadata": {},
   "source": [
    "### Model Evaluation on Training Set"
   ]
  },
  {
   "cell_type": "code",
   "execution_count": 27,
   "id": "0523d6ac-9b27-460c-82b2-ed210e55c81a",
   "metadata": {},
   "outputs": [
    {
     "name": "stdout",
     "output_type": "stream",
     "text": [
      "\u001b[1m15/15\u001b[0m \u001b[32m━━━━━━━━━━━━━━━━━━━━\u001b[0m\u001b[37m\u001b[0m \u001b[1m1s\u001b[0m 59ms/step - accuracy: 0.8209 - loss: 1.1261\n"
     ]
    }
   ],
   "source": [
    "train_loss_acc = model.evaluate(training_set)"
   ]
  },
  {
   "cell_type": "markdown",
   "id": "ff698b48-229e-478d-9358-0d85a45b6cf3",
   "metadata": {},
   "source": [
    "### Model Evaluation on Training Set"
   ]
  },
  {
   "cell_type": "code",
   "execution_count": 28,
   "id": "f6885495-9768-43f6-89a4-6f753bc3c066",
   "metadata": {},
   "outputs": [
    {
     "name": "stdout",
     "output_type": "stream",
     "text": [
      "\u001b[1m8/8\u001b[0m \u001b[32m━━━━━━━━━━━━━━━━━━━━\u001b[0m\u001b[37m\u001b[0m \u001b[1m0s\u001b[0m 55ms/step - accuracy: 0.6960 - loss: 1.5053\n"
     ]
    }
   ],
   "source": [
    "valid_loss_acc = model.evaluate(validation_set)"
   ]
  },
  {
   "cell_type": "markdown",
   "id": "bf924d02-e2cf-4001-b8fe-8c34520530aa",
   "metadata": {},
   "source": [
    "## Saving Model"
   ]
  },
  {
   "cell_type": "code",
   "execution_count": 30,
   "id": "0df54708-881b-4cd3-8b20-24f9272ee51b",
   "metadata": {},
   "outputs": [],
   "source": [
    "model.save(\"trained_model2.keras\")"
   ]
  },
  {
   "cell_type": "markdown",
   "id": "20b9ec30-8cdf-4e1d-be88-43e4c0b407a6",
   "metadata": {},
   "source": [
    "## Visualization"
   ]
  },
  {
   "cell_type": "code",
   "execution_count": 31,
   "id": "508a4b0d-6e4f-4bc4-b0d5-f13f73e5da58",
   "metadata": {},
   "outputs": [
    {
     "data": {
      "text/plain": [
       "{'accuracy': [0.5502183437347412,\n",
       "  0.7008733749389648,\n",
       "  0.7401746511459351,\n",
       "  0.7925764322280884,\n",
       "  0.8034934401512146,\n",
       "  0.8406113386154175,\n",
       "  0.8493449687957764,\n",
       "  0.8602620363235474,\n",
       "  0.8908296823501587,\n",
       "  0.9104803204536438],\n",
       " 'loss': [10.891117095947266,\n",
       "  1.5763680934906006,\n",
       "  1.3724524974822998,\n",
       "  1.3110593557357788,\n",
       "  1.2474249601364136,\n",
       "  1.1766619682312012,\n",
       "  1.1309080123901367,\n",
       "  1.0925930738449097,\n",
       "  1.0384538173675537,\n",
       "  0.9921094179153442],\n",
       " 'val_accuracy': [0.5569105744361877,\n",
       "  0.5609756112098694,\n",
       "  0.7195122241973877,\n",
       "  0.5813007950782776,\n",
       "  0.6910569071769714,\n",
       "  0.6463414430618286,\n",
       "  0.6829268336296082,\n",
       "  0.6991869807243347,\n",
       "  0.7113820910453796,\n",
       "  0.7195122241973877],\n",
       " 'val_loss': [2.6196632385253906,\n",
       "  1.6250149011611938,\n",
       "  1.4279755353927612,\n",
       "  1.5252070426940918,\n",
       "  1.3564947843551636,\n",
       "  1.5022149085998535,\n",
       "  1.3846019506454468,\n",
       "  1.3670778274536133,\n",
       "  1.4555304050445557,\n",
       "  1.4729543924331665]}"
      ]
     },
     "execution_count": 31,
     "metadata": {},
     "output_type": "execute_result"
    }
   ],
   "source": [
    "training_history.history"
   ]
  },
  {
   "cell_type": "markdown",
   "id": "aab5fd23-6f6f-4c7e-9a1f-64241e583569",
   "metadata": {},
   "source": [
    "## Recording History in json"
   ]
  },
  {
   "cell_type": "code",
   "execution_count": 32,
   "id": "bd1cfd36-1f40-4b25-a908-26c88cfd0bed",
   "metadata": {},
   "outputs": [],
   "source": [
    "import json\n",
    "with open(\"training_history.json\",\"w\") as f:\n",
    "    json.dump(training_history.history,f)"
   ]
  },
  {
   "cell_type": "markdown",
   "id": "859a97ee-54e3-49f4-95fa-817500bb8182",
   "metadata": {},
   "source": [
    "## Accuracy Visualization"
   ]
  },
  {
   "cell_type": "code",
   "execution_count": 33,
   "id": "a4ad23e1-ee35-479f-af28-e20f79781a8d",
   "metadata": {},
   "outputs": [
    {
     "data": {
      "image/png": "[encoded data removed]",
      "text/plain": [
       "<Figure size 640x480 with 1 Axes>"
      ]
     },
     "metadata": {},
     "output_type": "display_data"
    }
   ],
   "source": [
    "epochs = [i for i in range(1,11)]\n",
    "plt.plot(epochs, training_history.history['accuracy'], color='red', label='Training Accuracy')\n",
    "plt.plot(epochs, training_history.history['val_accuracy'], color='blue', label='Validation Accuracy')\n",
    "plt.xlabel(\"No of Epochs\")\n",
    "plt.ylabel(\"Accuracy Result\")\n",
    "plt.title(\"Visualization of Accuracy Result\")\n",
    "plt.legend()\n",
    "plt.show()"
   ]
  },
  {
   "cell_type": "markdown",
   "id": "0f6d5dec-36c3-4901-8b1f-465189f85b8f",
   "metadata": {},
   "source": [
    "## Other Matrics For Model Evaluation"
   ]
  },
  {
   "cell_type": "code",
   "execution_count": 34,
   "id": "8d6cec99-5fa7-451a-bd5d-a7dc8413d1b0",
   "metadata": {},
   "outputs": [
    {
     "data": {
      "text/plain": [
       "['Disease', 'Healthy']"
      ]
     },
     "execution_count": 34,
     "metadata": {},
     "output_type": "execute_result"
    }
   ],
   "source": [
    "class_name = validation_set.class_names\n",
    "class_name"
   ]
  },
  {
   "cell_type": "code",
   "execution_count": 35,
   "id": "57ea5e8a-ee5e-437a-961d-b5f261415390",
   "metadata": {},
   "outputs": [
    {
     "name": "stdout",
     "output_type": "stream",
     "text": [
      "Found 246 files belonging to 2 classes.\n"
     ]
    }
   ],
   "source": [
    "test_set = tf.keras.utils.image_dataset_from_directory( #Keras image data loding (https://keras.io/api/data_loading/image/)\n",
    "    'valid', #Folder name (where the data is located)\n",
    "    labels=\"inferred\", #Labels are generated from the directory structure\n",
    "    label_mode=\"categorical\", #Labels are encoded as a categorical vector\n",
    "    class_names=None,\n",
    "    color_mode=\"rgb\",\n",
    "    batch_size=32, #If you want to speed up the training process then change this in to 64 or 128\n",
    "    image_size=(128, 128),\n",
    "    shuffle=False, #Change in to false to pass it sequentialy\n",
    "    seed=None,\n",
    "    validation_split=None,\n",
    "    subset=None,\n",
    "    interpolation=\"bilinear\",\n",
    "    follow_links=False,\n",
    "    crop_to_aspect_ratio=False,\n",
    "    pad_to_aspect_ratio=False,\n",
    "    data_format=None,\n",
    "    verbose=True,\n",
    ")"
   ]
  },
  {
   "cell_type": "code",
   "execution_count": 36,
   "id": "3e32b4c0-25d1-4b93-9ee1-142d61bc3284",
   "metadata": {},
   "outputs": [
    {
     "name": "stdout",
     "output_type": "stream",
     "text": [
      "\u001b[1m8/8\u001b[0m \u001b[32m━━━━━━━━━━━━━━━━━━━━\u001b[0m\u001b[37m\u001b[0m \u001b[1m1s\u001b[0m 70ms/step\n"
     ]
    },
    {
     "data": {
      "text/plain": [
       "(array([[9.40150619e-02, 9.05984938e-01],\n",
       "        [2.14365125e-01, 7.85634816e-01],\n",
       "        [1.56788364e-01, 8.43211591e-01],\n",
       "        [1.81659814e-02, 9.81833994e-01],\n",
       "        [3.68951596e-02, 9.63104784e-01],\n",
       "        [1.38507888e-01, 8.61492097e-01],\n",
       "        [8.04864466e-02, 9.19513524e-01],\n",
       "        [2.50557791e-02, 9.74944174e-01],\n",
       "        [9.99674439e-01, 3.25520872e-04],\n",
       "        [4.93205562e-02, 9.50679421e-01],\n",
       "        [3.74514572e-02, 9.62548554e-01],\n",
       "        [1.25814646e-01, 8.74185383e-01],\n",
       "        [4.57337737e-01, 5.42662263e-01],\n",
       "        [9.54985097e-02, 9.04501438e-01],\n",
       "        [9.82316434e-01, 1.76835489e-02],\n",
       "        [1.64762009e-02, 9.83523786e-01],\n",
       "        [6.34063542e-01, 3.65936458e-01],\n",
       "        [2.16392219e-01, 7.83607841e-01],\n",
       "        [6.99507073e-02, 9.30049241e-01],\n",
       "        [1.30156241e-02, 9.86984372e-01],\n",
       "        [9.50942039e-01, 4.90579493e-02],\n",
       "        [3.11692625e-01, 6.88307405e-01],\n",
       "        [2.02935547e-01, 7.97064483e-01],\n",
       "        [1.57521486e-01, 8.42478514e-01],\n",
       "        [1.90908074e-01, 8.09091866e-01],\n",
       "        [9.99964714e-01, 3.52356110e-05],\n",
       "        [1.79507703e-01, 8.20492268e-01],\n",
       "        [4.91236746e-01, 5.08763254e-01],\n",
       "        [1.13293305e-01, 8.86706710e-01],\n",
       "        [1.00000000e+00, 1.06111842e-09],\n",
       "        [2.07642987e-01, 7.92357028e-01],\n",
       "        [1.44067854e-01, 8.55932176e-01],\n",
       "        [4.26104277e-01, 5.73895693e-01],\n",
       "        [7.90475547e-01, 2.09524438e-01],\n",
       "        [2.36378964e-02, 9.76362050e-01],\n",
       "        [9.91597474e-01, 8.40254221e-03],\n",
       "        [9.29561257e-01, 7.04387277e-02],\n",
       "        [2.46939421e-01, 7.53060520e-01],\n",
       "        [6.22946071e-03, 9.93770540e-01],\n",
       "        [7.73184240e-01, 2.26815745e-01],\n",
       "        [4.87894744e-01, 5.12105227e-01],\n",
       "        [3.56883109e-01, 6.43116891e-01],\n",
       "        [2.76776794e-02, 9.72322345e-01],\n",
       "        [9.82708156e-01, 1.72919091e-02],\n",
       "        [1.58687998e-02, 9.84131157e-01],\n",
       "        [6.84064686e-01, 3.15935284e-01],\n",
       "        [7.96401352e-02, 9.20359850e-01],\n",
       "        [1.67392388e-01, 8.32607567e-01],\n",
       "        [9.13947821e-03, 9.90860462e-01],\n",
       "        [1.34010255e-01, 8.65989745e-01],\n",
       "        [9.02027369e-01, 9.79726762e-02],\n",
       "        [5.35950065e-01, 4.64049965e-01],\n",
       "        [4.00421843e-02, 9.59957838e-01],\n",
       "        [1.85721405e-02, 9.81427789e-01],\n",
       "        [9.99999881e-01, 8.28918658e-08],\n",
       "        [9.99546945e-01, 4.53028275e-04],\n",
       "        [2.16892272e-01, 7.83107758e-01],\n",
       "        [4.97598946e-01, 5.02401054e-01],\n",
       "        [5.85340202e-01, 4.14659828e-01],\n",
       "        [8.17455471e-01, 1.82544500e-01],\n",
       "        [7.15832531e-01, 2.84167469e-01],\n",
       "        [8.39996636e-01, 1.60003304e-01],\n",
       "        [9.94347751e-01, 5.65229263e-03],\n",
       "        [6.97102010e-01, 3.02897900e-01],\n",
       "        [7.44547665e-01, 2.55452335e-01],\n",
       "        [9.56564128e-01, 4.34359387e-02],\n",
       "        [2.42418885e-01, 7.57581115e-01],\n",
       "        [7.44038463e-01, 2.55961597e-01],\n",
       "        [6.86750948e-01, 3.13249081e-01],\n",
       "        [6.43935204e-01, 3.56064796e-01],\n",
       "        [9.96117353e-01, 3.88269848e-03],\n",
       "        [4.89651382e-01, 5.10348618e-01],\n",
       "        [3.10515791e-01, 6.89484179e-01],\n",
       "        [6.29639179e-02, 9.37036157e-01],\n",
       "        [4.44419533e-01, 5.55580497e-01],\n",
       "        [3.22472394e-01, 6.77527666e-01],\n",
       "        [9.24435198e-01, 7.55647495e-02],\n",
       "        [2.35098470e-02, 9.76490140e-01],\n",
       "        [5.36806107e-01, 4.63193834e-01],\n",
       "        [3.04573357e-01, 6.95426643e-01],\n",
       "        [3.07344217e-02, 9.69265580e-01],\n",
       "        [8.51558372e-02, 9.14844215e-01],\n",
       "        [9.87543315e-02, 9.01245654e-01],\n",
       "        [3.69225085e-01, 6.30774975e-01],\n",
       "        [9.99392509e-01, 6.07514055e-04],\n",
       "        [8.83638263e-01, 1.16361685e-01],\n",
       "        [9.99808729e-01, 1.91295752e-04],\n",
       "        [9.13238585e-01, 8.67613852e-02],\n",
       "        [6.85959816e-01, 3.14040154e-01],\n",
       "        [6.24188483e-01, 3.75811547e-01],\n",
       "        [6.03057027e-01, 3.96942943e-01],\n",
       "        [3.75649214e-01, 6.24350786e-01],\n",
       "        [9.17443395e-01, 8.25566426e-02],\n",
       "        [9.99611676e-01, 3.88367946e-04],\n",
       "        [9.99384046e-01, 6.15989848e-04],\n",
       "        [9.99935627e-01, 6.43854510e-05],\n",
       "        [9.99145985e-01, 8.54050915e-04],\n",
       "        [9.83888388e-01, 1.61115397e-02],\n",
       "        [9.96114612e-01, 3.88541794e-03],\n",
       "        [9.94906843e-01, 5.09310188e-03],\n",
       "        [9.89528000e-01, 1.04719913e-02],\n",
       "        [9.99986649e-01, 1.34107258e-05],\n",
       "        [1.00000000e+00, 2.72461276e-09],\n",
       "        [9.99966025e-01, 3.39973085e-05],\n",
       "        [9.99965310e-01, 3.47393798e-05],\n",
       "        [9.99996543e-01, 3.45473995e-06],\n",
       "        [1.00000000e+00, 5.28892130e-09],\n",
       "        [1.00000000e+00, 1.89630367e-10],\n",
       "        [1.00000000e+00, 2.19626706e-10],\n",
       "        [1.00000000e+00, 1.57274849e-09],\n",
       "        [9.99952912e-01, 4.70561572e-05],\n",
       "        [9.99997616e-01, 2.42674605e-06],\n",
       "        [9.99959588e-01, 4.04220591e-05],\n",
       "        [9.99999523e-01, 4.51761821e-07],\n",
       "        [9.99995351e-01, 4.59612329e-06],\n",
       "        [9.99998212e-01, 1.81757048e-06],\n",
       "        [9.99999881e-01, 9.71344960e-08],\n",
       "        [9.99998093e-01, 1.90715673e-06],\n",
       "        [9.99995232e-01, 4.72864303e-06],\n",
       "        [9.99966025e-01, 3.39684375e-05],\n",
       "        [9.23707306e-01, 7.62927234e-02],\n",
       "        [9.18506503e-01, 8.14934745e-02],\n",
       "        [9.69507337e-01, 3.04926634e-02],\n",
       "        [7.47254670e-01, 2.52745271e-01],\n",
       "        [9.13127482e-01, 8.68725702e-02],\n",
       "        [8.23305249e-01, 1.76694766e-01],\n",
       "        [7.49650300e-01, 2.50349730e-01],\n",
       "        [9.08999681e-01, 9.10003185e-02],\n",
       "        [9.23948109e-01, 7.60518983e-02],\n",
       "        [9.99013186e-01, 9.86805186e-04],\n",
       "        [2.90814102e-01, 7.09185898e-01],\n",
       "        [7.42265105e-01, 2.57734925e-01],\n",
       "        [9.86606300e-01, 1.33937756e-02],\n",
       "        [9.24628913e-01, 7.53710940e-02],\n",
       "        [8.27973187e-01, 1.72026753e-01],\n",
       "        [9.54171777e-01, 4.58282530e-02],\n",
       "        [9.35208619e-01, 6.47914335e-02],\n",
       "        [1.50646679e-02, 9.84935403e-01],\n",
       "        [4.04244035e-01, 5.95755935e-01],\n",
       "        [9.45413485e-02, 9.05458629e-01],\n",
       "        [1.28353402e-01, 8.71646583e-01],\n",
       "        [2.23628953e-02, 9.77637053e-01],\n",
       "        [8.82478654e-02, 9.11752105e-01],\n",
       "        [4.24638484e-03, 9.95753646e-01],\n",
       "        [1.62703991e-02, 9.83729661e-01],\n",
       "        [1.74110010e-02, 9.82589006e-01],\n",
       "        [1.14881173e-01, 8.85118902e-01],\n",
       "        [1.52841985e-01, 8.47158015e-01],\n",
       "        [1.96488976e-01, 8.03511083e-01],\n",
       "        [5.92875630e-02, 9.40712392e-01],\n",
       "        [1.02400869e-01, 8.97599161e-01],\n",
       "        [4.54139799e-01, 5.45860291e-01],\n",
       "        [1.93356257e-02, 9.80664372e-01],\n",
       "        [4.60667089e-02, 9.53933299e-01],\n",
       "        [7.12789595e-01, 2.87210464e-01],\n",
       "        [6.56027317e-01, 3.43972713e-01],\n",
       "        [1.35496765e-01, 8.64503264e-01],\n",
       "        [9.08279240e-01, 9.17208269e-02],\n",
       "        [3.27388525e-01, 6.72611475e-01],\n",
       "        [6.58232048e-02, 9.34176803e-01],\n",
       "        [3.32637988e-02, 9.66736197e-01],\n",
       "        [3.99456359e-02, 9.60054338e-01],\n",
       "        [4.45044972e-02, 9.55495477e-01],\n",
       "        [5.61439209e-02, 9.43856120e-01],\n",
       "        [2.87646987e-02, 9.71235335e-01],\n",
       "        [2.24814881e-02, 9.77518499e-01],\n",
       "        [9.10870656e-02, 9.08912897e-01],\n",
       "        [1.31882587e-02, 9.86811697e-01],\n",
       "        [7.50375632e-03, 9.92496252e-01],\n",
       "        [4.96190647e-03, 9.95038092e-01],\n",
       "        [3.10581774e-01, 6.89418256e-01],\n",
       "        [8.68196905e-01, 1.31803125e-01],\n",
       "        [1.69404775e-01, 8.30595195e-01],\n",
       "        [1.26145864e-02, 9.87385392e-01],\n",
       "        [1.90257244e-02, 9.80974257e-01],\n",
       "        [4.94818296e-03, 9.95051801e-01],\n",
       "        [5.55233359e-02, 9.44476604e-01],\n",
       "        [2.41556894e-02, 9.75844383e-01],\n",
       "        [1.89685971e-01, 8.10314000e-01],\n",
       "        [2.76015699e-01, 7.23984301e-01],\n",
       "        [1.21118538e-02, 9.87888157e-01],\n",
       "        [1.25384713e-02, 9.87461507e-01],\n",
       "        [3.16214599e-02, 9.68378544e-01],\n",
       "        [5.20354331e-01, 4.79645699e-01],\n",
       "        [1.56964242e-01, 8.43035758e-01],\n",
       "        [3.78683656e-02, 9.62131619e-01],\n",
       "        [3.02930120e-02, 9.69706953e-01],\n",
       "        [1.33651914e-02, 9.86634791e-01],\n",
       "        [2.44431674e-01, 7.55568326e-01],\n",
       "        [1.96303036e-02, 9.80369747e-01],\n",
       "        [1.24008968e-01, 8.75990987e-01],\n",
       "        [1.45642638e-01, 8.54357362e-01],\n",
       "        [5.76952845e-02, 9.42304730e-01],\n",
       "        [6.82774279e-03, 9.93172228e-01],\n",
       "        [4.57614250e-02, 9.54238534e-01],\n",
       "        [5.18315844e-02, 9.48168397e-01],\n",
       "        [1.73441746e-04, 9.99826610e-01],\n",
       "        [2.62935251e-01, 7.37064779e-01],\n",
       "        [3.05104941e-01, 6.94895089e-01],\n",
       "        [5.18900394e-01, 4.81099606e-01],\n",
       "        [8.74177963e-02, 9.12582219e-01],\n",
       "        [9.99032753e-04, 9.99000967e-01],\n",
       "        [1.66815251e-01, 8.33184719e-01],\n",
       "        [1.80301130e-01, 8.19698870e-01],\n",
       "        [2.65342295e-02, 9.73465800e-01],\n",
       "        [2.70537913e-01, 7.29462087e-01],\n",
       "        [2.58588344e-01, 7.41411626e-01],\n",
       "        [8.95096302e-01, 1.04903683e-01],\n",
       "        [1.49313301e-01, 8.50686729e-01],\n",
       "        [3.02073453e-02, 9.69792724e-01],\n",
       "        [8.84712338e-01, 1.15287691e-01],\n",
       "        [1.04165778e-01, 8.95834267e-01],\n",
       "        [4.09328073e-01, 5.90671897e-01],\n",
       "        [2.27563046e-02, 9.77243662e-01],\n",
       "        [8.55314314e-01, 1.44685745e-01],\n",
       "        [4.53517586e-02, 9.54648256e-01],\n",
       "        [5.68830371e-02, 9.43117023e-01],\n",
       "        [2.90957615e-02, 9.70904291e-01],\n",
       "        [1.96248572e-02, 9.80375111e-01],\n",
       "        [8.66426080e-02, 9.13357437e-01],\n",
       "        [6.14969842e-02, 9.38502967e-01],\n",
       "        [4.43803608e-01, 5.56196392e-01],\n",
       "        [9.97933224e-02, 9.00206625e-01],\n",
       "        [9.86033261e-01, 1.39667178e-02],\n",
       "        [3.89753014e-01, 6.10246897e-01],\n",
       "        [1.59666948e-02, 9.84033287e-01],\n",
       "        [4.73276556e-01, 5.26723444e-01],\n",
       "        [1.20449670e-01, 8.79550397e-01],\n",
       "        [2.58852422e-01, 7.41147578e-01],\n",
       "        [8.98658514e-01, 1.01341441e-01],\n",
       "        [6.37287080e-01, 3.62712920e-01],\n",
       "        [5.85356712e-01, 4.14643288e-01],\n",
       "        [4.07639295e-01, 5.92360735e-01],\n",
       "        [8.73563215e-02, 9.12643671e-01],\n",
       "        [1.26200020e-01, 8.73799980e-01],\n",
       "        [2.49331053e-02, 9.75066900e-01],\n",
       "        [3.38727161e-02, 9.66127276e-01],\n",
       "        [8.16039592e-02, 9.18395996e-01],\n",
       "        [1.08315930e-01, 8.91684055e-01],\n",
       "        [1.51886478e-01, 8.48113537e-01],\n",
       "        [1.45337626e-01, 8.54662418e-01],\n",
       "        [1.21839166e-01, 8.78160775e-01],\n",
       "        [7.83963576e-02, 9.21603680e-01],\n",
       "        [2.79369414e-01, 7.20630527e-01],\n",
       "        [1.76639333e-01, 8.23360682e-01],\n",
       "        [9.09046307e-02, 9.09095347e-01]], dtype=float32),\n",
       " (246, 2))"
      ]
     },
     "execution_count": 36,
     "metadata": {},
     "output_type": "execute_result"
    }
   ],
   "source": [
    "y_pred = model.predict(test_set)\n",
    "y_pred,y_pred.shape"
   ]
  },
  {
   "cell_type": "code",
   "execution_count": 37,
   "id": "bf0dfa32-b9f1-4db3-8a8d-cbdcab4919e0",
   "metadata": {},
   "outputs": [
    {
     "data": {
      "text/plain": [
       "<tf.Tensor: shape=(246,), dtype=int64, numpy=\n",
       "array([1, 1, 1, 1, 1, 1, 1, 1, 0, 1, 1, 1, 1, 1, 0, 1, 0, 1, 1, 1, 0, 1,\n",
       "       1, 1, 1, 0, 1, 1, 1, 0, 1, 1, 1, 0, 1, 0, 0, 1, 1, 0, 1, 1, 1, 0,\n",
       "       1, 0, 1, 1, 1, 1, 0, 0, 1, 1, 0, 0, 1, 1, 0, 0, 0, 0, 0, 0, 0, 0,\n",
       "       1, 0, 0, 0, 0, 1, 1, 1, 1, 1, 0, 1, 0, 1, 1, 1, 1, 1, 0, 0, 0, 0,\n",
       "       0, 0, 0, 1, 0, 0, 0, 0, 0, 0, 0, 0, 0, 0, 0, 0, 0, 0, 0, 0, 0, 0,\n",
       "       0, 0, 0, 0, 0, 0, 0, 0, 0, 0, 0, 0, 0, 0, 0, 0, 0, 0, 0, 0, 1, 0,\n",
       "       0, 0, 0, 0, 0, 1, 1, 1, 1, 1, 1, 1, 1, 1, 1, 1, 1, 1, 1, 1, 1, 1,\n",
       "       0, 0, 1, 0, 1, 1, 1, 1, 1, 1, 1, 1, 1, 1, 1, 1, 1, 0, 1, 1, 1, 1,\n",
       "       1, 1, 1, 1, 1, 1, 1, 0, 1, 1, 1, 1, 1, 1, 1, 1, 1, 1, 1, 1, 1, 1,\n",
       "       1, 0, 1, 1, 1, 1, 1, 1, 1, 0, 1, 1, 0, 1, 1, 1, 0, 1, 1, 1, 1, 1,\n",
       "       1, 1, 1, 0, 1, 1, 1, 1, 1, 0, 0, 0, 1, 1, 1, 1, 1, 1, 1, 1, 1, 1,\n",
       "       1, 1, 1, 1], dtype=int64)>"
      ]
     },
     "execution_count": 37,
     "metadata": {},
     "output_type": "execute_result"
    }
   ],
   "source": [
    "predicted_categories = tf.argmax(y_pred,axis=1) #Return the maximum value and its index\n",
    "predicted_categories"
   ]
  },
  {
   "cell_type": "code",
   "execution_count": 38,
   "id": "e0f7f3e5-05a2-40c0-bd09-a8d64df5c176",
   "metadata": {},
   "outputs": [
    {
     "data": {
      "text/plain": [
       "<tf.Tensor: shape=(246, 2), dtype=float32, numpy=\n",
       "array([[1., 0.],\n",
       "       [1., 0.],\n",
       "       [1., 0.],\n",
       "       [1., 0.],\n",
       "       [1., 0.],\n",
       "       [1., 0.],\n",
       "       [1., 0.],\n",
       "       [1., 0.],\n",
       "       [1., 0.],\n",
       "       [1., 0.],\n",
       "       [1., 0.],\n",
       "       [1., 0.],\n",
       "       [1., 0.],\n",
       "       [1., 0.],\n",
       "       [1., 0.],\n",
       "       [1., 0.],\n",
       "       [1., 0.],\n",
       "       [1., 0.],\n",
       "       [1., 0.],\n",
       "       [1., 0.],\n",
       "       [1., 0.],\n",
       "       [1., 0.],\n",
       "       [1., 0.],\n",
       "       [1., 0.],\n",
       "       [1., 0.],\n",
       "       [1., 0.],\n",
       "       [1., 0.],\n",
       "       [1., 0.],\n",
       "       [1., 0.],\n",
       "       [1., 0.],\n",
       "       [1., 0.],\n",
       "       [1., 0.],\n",
       "       [1., 0.],\n",
       "       [1., 0.],\n",
       "       [1., 0.],\n",
       "       [1., 0.],\n",
       "       [1., 0.],\n",
       "       [1., 0.],\n",
       "       [1., 0.],\n",
       "       [1., 0.],\n",
       "       [1., 0.],\n",
       "       [1., 0.],\n",
       "       [1., 0.],\n",
       "       [1., 0.],\n",
       "       [1., 0.],\n",
       "       [1., 0.],\n",
       "       [1., 0.],\n",
       "       [1., 0.],\n",
       "       [1., 0.],\n",
       "       [1., 0.],\n",
       "       [1., 0.],\n",
       "       [1., 0.],\n",
       "       [1., 0.],\n",
       "       [1., 0.],\n",
       "       [1., 0.],\n",
       "       [1., 0.],\n",
       "       [1., 0.],\n",
       "       [1., 0.],\n",
       "       [1., 0.],\n",
       "       [1., 0.],\n",
       "       [1., 0.],\n",
       "       [1., 0.],\n",
       "       [1., 0.],\n",
       "       [1., 0.],\n",
       "       [1., 0.],\n",
       "       [1., 0.],\n",
       "       [1., 0.],\n",
       "       [1., 0.],\n",
       "       [1., 0.],\n",
       "       [1., 0.],\n",
       "       [1., 0.],\n",
       "       [1., 0.],\n",
       "       [1., 0.],\n",
       "       [1., 0.],\n",
       "       [1., 0.],\n",
       "       [1., 0.],\n",
       "       [1., 0.],\n",
       "       [1., 0.],\n",
       "       [1., 0.],\n",
       "       [1., 0.],\n",
       "       [1., 0.],\n",
       "       [1., 0.],\n",
       "       [1., 0.],\n",
       "       [1., 0.],\n",
       "       [1., 0.],\n",
       "       [1., 0.],\n",
       "       [1., 0.],\n",
       "       [1., 0.],\n",
       "       [1., 0.],\n",
       "       [1., 0.],\n",
       "       [1., 0.],\n",
       "       [1., 0.],\n",
       "       [1., 0.],\n",
       "       [1., 0.],\n",
       "       [1., 0.],\n",
       "       [1., 0.],\n",
       "       [1., 0.],\n",
       "       [1., 0.],\n",
       "       [1., 0.],\n",
       "       [1., 0.],\n",
       "       [1., 0.],\n",
       "       [1., 0.],\n",
       "       [1., 0.],\n",
       "       [1., 0.],\n",
       "       [1., 0.],\n",
       "       [1., 0.],\n",
       "       [1., 0.],\n",
       "       [1., 0.],\n",
       "       [1., 0.],\n",
       "       [1., 0.],\n",
       "       [1., 0.],\n",
       "       [1., 0.],\n",
       "       [1., 0.],\n",
       "       [1., 0.],\n",
       "       [1., 0.],\n",
       "       [1., 0.],\n",
       "       [1., 0.],\n",
       "       [1., 0.],\n",
       "       [1., 0.],\n",
       "       [1., 0.],\n",
       "       [1., 0.],\n",
       "       [1., 0.],\n",
       "       [1., 0.],\n",
       "       [1., 0.],\n",
       "       [1., 0.],\n",
       "       [1., 0.],\n",
       "       [1., 0.],\n",
       "       [1., 0.],\n",
       "       [1., 0.],\n",
       "       [1., 0.],\n",
       "       [1., 0.],\n",
       "       [1., 0.],\n",
       "       [1., 0.],\n",
       "       [1., 0.],\n",
       "       [1., 0.],\n",
       "       [1., 0.],\n",
       "       [1., 0.],\n",
       "       [0., 1.],\n",
       "       [0., 1.],\n",
       "       [0., 1.],\n",
       "       [0., 1.],\n",
       "       [0., 1.],\n",
       "       [0., 1.],\n",
       "       [0., 1.],\n",
       "       [0., 1.],\n",
       "       [0., 1.],\n",
       "       [0., 1.],\n",
       "       [0., 1.],\n",
       "       [0., 1.],\n",
       "       [0., 1.],\n",
       "       [0., 1.],\n",
       "       [0., 1.],\n",
       "       [0., 1.],\n",
       "       [0., 1.],\n",
       "       [0., 1.],\n",
       "       [0., 1.],\n",
       "       [0., 1.],\n",
       "       [0., 1.],\n",
       "       [0., 1.],\n",
       "       [0., 1.],\n",
       "       [0., 1.],\n",
       "       [0., 1.],\n",
       "       [0., 1.],\n",
       "       [0., 1.],\n",
       "       [0., 1.],\n",
       "       [0., 1.],\n",
       "       [0., 1.],\n",
       "       [0., 1.],\n",
       "       [0., 1.],\n",
       "       [0., 1.],\n",
       "       [0., 1.],\n",
       "       [0., 1.],\n",
       "       [0., 1.],\n",
       "       [0., 1.],\n",
       "       [0., 1.],\n",
       "       [0., 1.],\n",
       "       [0., 1.],\n",
       "       [0., 1.],\n",
       "       [0., 1.],\n",
       "       [0., 1.],\n",
       "       [0., 1.],\n",
       "       [0., 1.],\n",
       "       [0., 1.],\n",
       "       [0., 1.],\n",
       "       [0., 1.],\n",
       "       [0., 1.],\n",
       "       [0., 1.],\n",
       "       [0., 1.],\n",
       "       [0., 1.],\n",
       "       [0., 1.],\n",
       "       [0., 1.],\n",
       "       [0., 1.],\n",
       "       [0., 1.],\n",
       "       [0., 1.],\n",
       "       [0., 1.],\n",
       "       [0., 1.],\n",
       "       [0., 1.],\n",
       "       [0., 1.],\n",
       "       [0., 1.],\n",
       "       [0., 1.],\n",
       "       [0., 1.],\n",
       "       [0., 1.],\n",
       "       [0., 1.],\n",
       "       [0., 1.],\n",
       "       [0., 1.],\n",
       "       [0., 1.],\n",
       "       [0., 1.],\n",
       "       [0., 1.],\n",
       "       [0., 1.],\n",
       "       [0., 1.],\n",
       "       [0., 1.],\n",
       "       [0., 1.],\n",
       "       [0., 1.],\n",
       "       [0., 1.],\n",
       "       [0., 1.],\n",
       "       [0., 1.],\n",
       "       [0., 1.],\n",
       "       [0., 1.],\n",
       "       [0., 1.],\n",
       "       [0., 1.],\n",
       "       [0., 1.],\n",
       "       [0., 1.],\n",
       "       [0., 1.],\n",
       "       [0., 1.],\n",
       "       [0., 1.],\n",
       "       [0., 1.],\n",
       "       [0., 1.],\n",
       "       [0., 1.],\n",
       "       [0., 1.],\n",
       "       [0., 1.],\n",
       "       [0., 1.],\n",
       "       [0., 1.],\n",
       "       [0., 1.],\n",
       "       [0., 1.],\n",
       "       [0., 1.],\n",
       "       [0., 1.],\n",
       "       [0., 1.],\n",
       "       [0., 1.],\n",
       "       [0., 1.],\n",
       "       [0., 1.],\n",
       "       [0., 1.],\n",
       "       [0., 1.],\n",
       "       [0., 1.],\n",
       "       [0., 1.],\n",
       "       [0., 1.],\n",
       "       [0., 1.]], dtype=float32)>"
      ]
     },
     "execution_count": 38,
     "metadata": {},
     "output_type": "execute_result"
    }
   ],
   "source": [
    "true_categories = tf.concat([y for x,y in test_set],axis=0)\n",
    "true_categories"
   ]
  },
  {
   "cell_type": "code",
   "execution_count": 39,
   "id": "ae50e9e9-c94e-48e8-8909-3a0e97094c5a",
   "metadata": {},
   "outputs": [
    {
     "data": {
      "text/plain": [
       "<tf.Tensor: shape=(246,), dtype=int64, numpy=\n",
       "array([0, 0, 0, 0, 0, 0, 0, 0, 0, 0, 0, 0, 0, 0, 0, 0, 0, 0, 0, 0, 0, 0,\n",
       "       0, 0, 0, 0, 0, 0, 0, 0, 0, 0, 0, 0, 0, 0, 0, 0, 0, 0, 0, 0, 0, 0,\n",
       "       0, 0, 0, 0, 0, 0, 0, 0, 0, 0, 0, 0, 0, 0, 0, 0, 0, 0, 0, 0, 0, 0,\n",
       "       0, 0, 0, 0, 0, 0, 0, 0, 0, 0, 0, 0, 0, 0, 0, 0, 0, 0, 0, 0, 0, 0,\n",
       "       0, 0, 0, 0, 0, 0, 0, 0, 0, 0, 0, 0, 0, 0, 0, 0, 0, 0, 0, 0, 0, 0,\n",
       "       0, 0, 0, 0, 0, 0, 0, 0, 0, 0, 0, 0, 0, 0, 0, 0, 0, 0, 0, 0, 0, 0,\n",
       "       0, 0, 0, 0, 0, 1, 1, 1, 1, 1, 1, 1, 1, 1, 1, 1, 1, 1, 1, 1, 1, 1,\n",
       "       1, 1, 1, 1, 1, 1, 1, 1, 1, 1, 1, 1, 1, 1, 1, 1, 1, 1, 1, 1, 1, 1,\n",
       "       1, 1, 1, 1, 1, 1, 1, 1, 1, 1, 1, 1, 1, 1, 1, 1, 1, 1, 1, 1, 1, 1,\n",
       "       1, 1, 1, 1, 1, 1, 1, 1, 1, 1, 1, 1, 1, 1, 1, 1, 1, 1, 1, 1, 1, 1,\n",
       "       1, 1, 1, 1, 1, 1, 1, 1, 1, 1, 1, 1, 1, 1, 1, 1, 1, 1, 1, 1, 1, 1,\n",
       "       1, 1, 1, 1], dtype=int64)>"
      ]
     },
     "execution_count": 39,
     "metadata": {},
     "output_type": "execute_result"
    }
   ],
   "source": [
    "y_true = tf.argmax(true_categories,axis=1)\n",
    "y_true"
   ]
  },
  {
   "cell_type": "code",
   "execution_count": 40,
   "id": "cc11bc90-fd91-402e-973b-3de9b8db421b",
   "metadata": {},
   "outputs": [],
   "source": [
    "from sklearn.metrics import classification_report, confusion_matrix #https://scikit-learn.org/stable/modules/generated/sklearn.metrics.classification_report.html"
   ]
  },
  {
   "cell_type": "code",
   "execution_count": 41,
   "id": "d87782e5-1d28-465d-8a07-4b772715c636",
   "metadata": {},
   "outputs": [
    {
     "name": "stdout",
     "output_type": "stream",
     "text": [
      "              precision    recall  f1-score   support\n",
      "\n",
      "     Disease       0.86      0.59      0.70       137\n",
      "     Healthy       0.63      0.88      0.74       109\n",
      "\n",
      "    accuracy                           0.72       246\n",
      "   macro avg       0.75      0.74      0.72       246\n",
      "weighted avg       0.76      0.72      0.72       246\n",
      "\n"
     ]
    }
   ],
   "source": [
    "print(classification_report(y_true, predicted_categories, target_names=class_name)) #sklearn.metrics.classification_report(y_true, y_pred, *, labels=None, target_names=None, sample_weight=None, digits=2, output_dict=False, zero_division='warn')"
   ]
  },
  {
   "cell_type": "markdown",
   "id": "7e6d7eca-28ff-40bc-bee3-cf4d7ba178f6",
   "metadata": {},
   "source": [
    "### Confusion Matrix"
   ]
  },
  {
   "cell_type": "code",
   "execution_count": 42,
   "id": "74d4f8c4-7158-47a4-9575-cbef4403aca5",
   "metadata": {},
   "outputs": [
    {
     "data": {
      "text/plain": [
       "(2, 2)"
      ]
     },
     "execution_count": 42,
     "metadata": {},
     "output_type": "execute_result"
    }
   ],
   "source": [
    "cm = confusion_matrix(y_true, predicted_categories)\n",
    "cm.shape"
   ]
  },
  {
   "cell_type": "code",
   "execution_count": 43,
   "id": "0e03cc11-06ee-4a13-b13e-ab22665304aa",
   "metadata": {},
   "outputs": [
    {
     "data": {
      "image/png": "[encoded data removed]",
      "text/plain": [
       "<Figure size 640x480 with 2 Axes>"
      ]
     },
     "metadata": {},
     "output_type": "display_data"
    }
   ],
   "source": [
    "sns.heatmap(cm, annot=True) #https://seaborn.pydata.org/generated/seaborn.heatmap.html\n",
    "plt.xlabel(\"Predicted Class\")\n",
    "plt.ylabel(\"Actual Class\")\n",
    "plt.title(\"Plant Disease Prediction Confusion Matrix\")\n",
    "plt.show()"
   ]
  }
 ],
 "metadata": {
  "kernelspec": {
   "display_name": "Python 3 (ipykernel)",
   "language": "python",
   "name": "python3"
  },
  "language_info": {
   "codemirror_mode": {
    "name": "ipython",
    "version": 3
   },
   "file_extension": ".py",
   "mimetype": "text/x-python",
   "name": "python",
   "nbconvert_exporter": "python",
   "pygments_lexer": "ipython3",
   "version": "3.11.7"
  }
 },
 "nbformat": 4,
 "nbformat_minor": 5
}
